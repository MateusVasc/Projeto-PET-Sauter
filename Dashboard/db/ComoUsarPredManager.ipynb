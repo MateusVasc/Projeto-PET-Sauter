{
 "cells": [
  {
   "cell_type": "markdown",
   "metadata": {},
   "source": [
    "#### Não precisa olhar esse código do Nixxla. Só fiz ele pra mostrar pra vocês os códigos do PredictionManager rodando"
   ]
  },
  {
   "cell_type": "code",
   "execution_count": 23,
   "metadata": {},
   "outputs": [],
   "source": [
    "from mlforecast import MLForecast\n",
    "import pandas as pd"
   ]
  },
  {
   "cell_type": "code",
   "execution_count": null,
   "metadata": {},
   "outputs": [],
   "source": [
    "path = \"D:\\Programas\\PET\\M5_full.parquet\"\n",
    "\n",
    "dados = pd.read_parquet(path)"
   ]
  },
  {
   "cell_type": "code",
   "execution_count": null,
   "metadata": {},
   "outputs": [],
   "source": [
    "dados['date'] = pd.to_datetime(dados['date'])"
   ]
  },
  {
   "cell_type": "code",
   "execution_count": null,
   "metadata": {},
   "outputs": [],
   "source": [
    "dados['year_month'] = dados['date'].dt.to_period('M')"
   ]
  },
  {
   "cell_type": "code",
   "execution_count": null,
   "metadata": {},
   "outputs": [],
   "source": [
    "dados['year_month'] = dados['year_month'].dt.to_timestamp()"
   ]
  },
  {
   "cell_type": "code",
   "execution_count": null,
   "metadata": {},
   "outputs": [],
   "source": [
    "df_general = dados.groupby('year_month')['value'].sum().reset_index().set_index('year_month')"
   ]
  },
  {
   "cell_type": "code",
   "execution_count": null,
   "metadata": {},
   "outputs": [],
   "source": [
    "df_hobbies = dados.groupby(['cat_id', 'year_month'])['value'].sum().reset_index().set_index('year_month')\n",
    "df_hobbies = df_hobbies[df_hobbies['cat_id'] == 'HOBBIES']"
   ]
  },
  {
   "cell_type": "code",
   "execution_count": null,
   "metadata": {},
   "outputs": [],
   "source": [
    "df_nixtla_general = pd.DataFrame({'ds': df_general.index, 'y': df_general['value'].values, 'unique_id' : 'general'})\n",
    "df_nixtla_hobbies = pd.DataFrame({'ds': df_hobbies.index, 'y': df_hobbies['value'].values, 'unique_id': 'hobbies'})\n",
    "\n",
    "df_nixtla = pd.concat([df_nixtla_general, df_nixtla_hobbies], ignore_index=True)"
   ]
  },
  {
   "cell_type": "code",
   "execution_count": null,
   "metadata": {},
   "outputs": [],
   "source": [
    "test_size = (int)(df_nixtla.shape[0]*0.2)\n",
    "\n",
    "df_test = df_nixtla.tail(test_size)\n",
    "df_train = df_nixtla.drop(df_test.index)    "
   ]
  },
  {
   "cell_type": "code",
   "execution_count": null,
   "metadata": {},
   "outputs": [],
   "source": [
    "from sklearn.base import BaseEstimator\n",
    "\n",
    "class Naive(BaseEstimator):\n",
    "    def fit(self, X, y):\n",
    "        return self\n",
    "\n",
    "    def predict(self, X):\n",
    "        return X['lag1']"
   ]
  },
  {
   "cell_type": "code",
   "execution_count": null,
   "metadata": {},
   "outputs": [],
   "source": [
    "from sklearn.tree import DecisionTreeRegressor\n",
    "from sklearn.linear_model import LinearRegression"
   ]
  },
  {
   "cell_type": "code",
   "execution_count": null,
   "metadata": {},
   "outputs": [],
   "source": [
    "selected_models = [\n",
    "    DecisionTreeRegressor(),\n",
    "    LinearRegression(),\n",
    "    Naive()\n",
    "]"
   ]
  },
  {
   "cell_type": "code",
   "execution_count": null,
   "metadata": {},
   "outputs": [],
   "source": [
    "ml_forecast = MLForecast(\n",
    "    models = selected_models,\n",
    "    freq = 'M',\n",
    "    lags=[1,2,3,4,5,6]\n",
    ")"
   ]
  },
  {
   "cell_type": "code",
   "execution_count": null,
   "metadata": {},
   "outputs": [],
   "source": [
    "ml_forecast.fit(df_nixtla)"
   ]
  },
  {
   "cell_type": "markdown",
   "metadata": {},
   "source": [
    "##### Aqui é o que precisa ser salvo"
   ]
  },
  {
   "cell_type": "code",
   "execution_count": null,
   "metadata": {},
   "outputs": [],
   "source": [
    "predict_full = ml_forecast.predict(6)"
   ]
  },
  {
   "cell_type": "markdown",
   "metadata": {},
   "source": [
    "#### Vocês precisam usar isso aqui pra fazer o dashboard"
   ]
  },
  {
   "cell_type": "markdown",
   "metadata": {},
   "source": [
    "##### Essa classe serve pra gerenciar as predições no nosso Banco de Dados de predição. Basicamente, serve como uma API pra salvar e consultar as predições feitas pelo Nixxla."
   ]
  },
  {
   "cell_type": "code",
   "execution_count": null,
   "metadata": {},
   "outputs": [],
   "source": [
    "from PredictionsManager import PredictionsManager"
   ]
  },
  {
   "cell_type": "markdown",
   "metadata": {},
   "source": [
    "##### Esse path pro db eu criei pra testar a classe, então criem onde ficar melhor pra rodar o dashboard"
   ]
  },
  {
   "cell_type": "code",
   "execution_count": null,
   "metadata": {},
   "outputs": [],
   "source": [
    "db_path = 'predictions.db'"
   ]
  },
  {
   "cell_type": "code",
   "execution_count": null,
   "metadata": {},
   "outputs": [],
   "source": [
    "pred_manager = PredictionsManager(db_path=db_path)"
   ]
  },
  {
   "cell_type": "markdown",
   "metadata": {},
   "source": [
    "##### Vejam que o meu DataFrame 'pred_full' tem as previsões de todos os modelos que eu selecionei pra cada uma dos unique_id"
   ]
  },
  {
   "cell_type": "code",
   "execution_count": null,
   "metadata": {},
   "outputs": [],
   "source": [
    "predict_full.head(5)"
   ]
  },
  {
   "cell_type": "code",
   "execution_count": null,
   "metadata": {},
   "outputs": [],
   "source": [
    "predict_full.tail(5)"
   ]
  },
  {
   "cell_type": "markdown",
   "metadata": {},
   "source": [
    "##### Pra salvar essas previsões na base de dados basta passar esse o df_nixtla q a gnt usou pra fazer as previsões e o predict, que o manager vai separar cada previsão em uma tabela com o nome correspondente ao 'unique_id' dela em 'predict_full'. Exemplo: pra o dataframe 'general', o manager vai criar uma tabela 'general' com o df original e uma tabela 'prev_general' com a previsao."
   ]
  },
  {
   "cell_type": "code",
   "execution_count": null,
   "metadata": {},
   "outputs": [],
   "source": [
    "pred_manager.save_predictions(df_nixtla, predict_full)"
   ]
  },
  {
   "cell_type": "markdown",
   "metadata": {},
   "source": [
    "##### Pra pegar as previsões, é só usar o método abaixo e pasasr o 'unique_id' correspondente a previsão que você quer e ele vai retornar o dataframe original e o dataframe da previsao. Seguindo o exemplo acima, se vc quiser pegar a previsao pra general, vc vai botar a string 'general' e receber o dataframe original e a previsao dele numa tupla nessa ordem."
   ]
  },
  {
   "cell_type": "code",
   "execution_count": null,
   "metadata": {},
   "outputs": [],
   "source": [
    "original_series, prev_hobbies = pred_manager.get_prediction('general')\n",
    "original_series.head()"
   ]
  },
  {
   "cell_type": "code",
   "execution_count": null,
   "metadata": {},
   "outputs": [],
   "source": [
    "prev_hobbies.head()"
   ]
  },
  {
   "cell_type": "markdown",
   "metadata": {},
   "source": [
    "##### Depois de usar essa classe pra salvar/pegar algum dado no BD, lembrem de fechar a conexão."
   ]
  },
  {
   "cell_type": "code",
   "execution_count": null,
   "metadata": {},
   "outputs": [],
   "source": [
    "pred_manager.close_connection()"
   ]
  },
  {
   "cell_type": "markdown",
   "metadata": {},
   "source": [
    "##### Adicionando previsões"
   ]
  },
  {
   "cell_type": "markdown",
   "metadata": {},
   "source": [
    "adicionei um arquivo com as previsões dos treinos (no caso, a df_teste)"
   ]
  },
  {
   "cell_type": "code",
   "execution_count": 24,
   "metadata": {},
   "outputs": [],
   "source": [
    "path_pred = \"../../data/predictions.parquet\"\n",
    "path_test = \"../../data/tests.parquet\"\n",
    "path_nix = \"../../data/all_M5_series.parquet\"\n",
    "\n",
    "df_nix = pd.read_parquet(path_nix)\n",
    "df_test = pd.read_parquet(path_test)\n",
    "df_pred = pd.read_parquet(path_pred)"
   ]
  },
  {
   "cell_type": "code",
   "execution_count": 25,
   "metadata": {},
   "outputs": [],
   "source": [
    "df_nix['ds'] = df_nix['ds'].dt.to_timestamp()"
   ]
  },
  {
   "cell_type": "code",
   "execution_count": 26,
   "metadata": {},
   "outputs": [
    {
     "name": "stdout",
     "output_type": "stream",
     "text": [
      "<class 'pandas.core.frame.DataFrame'>\n",
      "RangeIndex: 1982955 entries, 0 to 1982954\n",
      "Data columns (total 3 columns):\n",
      " #   Column     Dtype         \n",
      "---  ------     -----         \n",
      " 0   unique_id  object        \n",
      " 1   ds         datetime64[ns]\n",
      " 2   y          int64         \n",
      "dtypes: datetime64[ns](1), int64(1), object(1)\n",
      "memory usage: 45.4+ MB\n"
     ]
    }
   ],
   "source": [
    "df_nix.info()"
   ]
  },
  {
   "cell_type": "code",
   "execution_count": 27,
   "metadata": {},
   "outputs": [
    {
     "name": "stdout",
     "output_type": "stream",
     "text": [
      "<class 'pandas.core.frame.DataFrame'>\n",
      "RangeIndex: 462 entries, 0 to 461\n",
      "Data columns (total 8 columns):\n",
      " #   Column            Non-Null Count  Dtype         \n",
      "---  ------            --------------  -----         \n",
      " 0   ds                462 non-null    datetime64[ns]\n",
      " 1   AutoARIMA         462 non-null    float32       \n",
      " 2   ETS               462 non-null    float32       \n",
      " 3   Theta             462 non-null    float32       \n",
      " 4   unique_id         462 non-null    object        \n",
      " 5   LGBMRegressor     462 non-null    float32       \n",
      " 6   XGBRegressor      462 non-null    float32       \n",
      " 7   LinearRegression  462 non-null    float32       \n",
      "dtypes: datetime64[ns](1), float32(6), object(1)\n",
      "memory usage: 18.2+ KB\n"
     ]
    }
   ],
   "source": [
    "df_pred.info()"
   ]
  },
  {
   "cell_type": "code",
   "execution_count": 28,
   "metadata": {},
   "outputs": [
    {
     "name": "stdout",
     "output_type": "stream",
     "text": [
      "<class 'pandas.core.frame.DataFrame'>\n",
      "RangeIndex: 221 entries, 0 to 220\n",
      "Data columns (total 8 columns):\n",
      " #   Column            Non-Null Count  Dtype         \n",
      "---  ------            --------------  -----         \n",
      " 0   ds                221 non-null    datetime64[ns]\n",
      " 1   AutoARIMA         221 non-null    float32       \n",
      " 2   ETS               221 non-null    float32       \n",
      " 3   Theta             221 non-null    float32       \n",
      " 4   unique_id         221 non-null    object        \n",
      " 5   LGBMRegressor     221 non-null    float32       \n",
      " 6   XGBRegressor      221 non-null    float32       \n",
      " 7   LinearRegression  221 non-null    float32       \n",
      "dtypes: datetime64[ns](1), float32(6), object(1)\n",
      "memory usage: 8.8+ KB\n"
     ]
    }
   ],
   "source": [
    "df_test.info()"
   ]
  },
  {
   "cell_type": "code",
   "execution_count": 29,
   "metadata": {},
   "outputs": [],
   "source": [
    "db_path = 'predictions.db'"
   ]
  },
  {
   "cell_type": "code",
   "execution_count": 30,
   "metadata": {},
   "outputs": [
    {
     "name": "stdout",
     "output_type": "stream",
     "text": [
      "Banco de dados conectado: predictions.db\n"
     ]
    }
   ],
   "source": [
    "pred_manager = PredictionsManager(db_path=db_path)"
   ]
  },
  {
   "cell_type": "code",
   "execution_count": 31,
   "metadata": {},
   "outputs": [
    {
     "name": "stdout",
     "output_type": "stream",
     "text": [
      "Todas as previsões foram salvas em tabelas chamadas: ['RTM' 'CA' 'TX' 'WI' 'CA_1' 'CA_2' 'CA_3' 'CA_4' 'TX_1' 'TX_2' 'TX_3'\n",
      " 'WI_1' 'WI_2' 'WI_3' 'FOODS' 'HOBBIES' 'HOUSEHOLD'\n",
      " 'FOODS_3_090_CA_3_evaluation' 'FOODS_3_586_TX_2_evaluation'\n",
      " 'FOODS_3_586_TX_3_evaluation' 'FOODS_3_586_CA_3_evaluation'\n",
      " 'FOODS_3_090_CA_1_evaluation' 'FOODS_3_090_WI_3_evaluation'\n",
      " 'FOODS_3_090_TX_2_evaluation' 'FOODS_3_090_TX_3_evaluation'\n",
      " 'FOODS_3_252_TX_2_evaluation' 'FOODS_3_586_TX_1_evaluation'\n",
      " 'HOBBIES_1_234_CA_3_evaluation' 'HOBBIES_1_348_CA_1_evaluation'\n",
      " 'HOBBIES_1_371_CA_1_evaluation' 'HOBBIES_1_254_CA_3_evaluation'\n",
      " 'HOBBIES_1_371_CA_3_evaluation' 'HOBBIES_1_348_CA_3_evaluation'\n",
      " 'HOBBIES_1_268_CA_1_evaluation' 'HOBBIES_1_341_CA_3_evaluation'\n",
      " 'HOBBIES_1_015_CA_3_evaluation' 'HOBBIES_1_268_CA_3_evaluation'\n",
      " 'HOUSEHOLD_1_118_CA_3_evaluation' 'HOUSEHOLD_1_459_CA_3_evaluation'\n",
      " 'HOUSEHOLD_1_334_CA_3_evaluation' 'HOUSEHOLD_1_303_CA_3_evaluation'\n",
      " 'HOUSEHOLD_1_521_CA_3_evaluation' 'HOUSEHOLD_1_459_WI_2_evaluation'\n",
      " 'HOUSEHOLD_1_465_CA_3_evaluation' 'HOUSEHOLD_1_351_CA_3_evaluation'\n",
      " 'HOUSEHOLD_1_019_CA_3_evaluation' 'HOUSEHOLD_1_110_WI_2_evaluation'\n",
      " 'FOODS_3_778_CA_2_evaluation' 'FOODS_2_057_WI_2_evaluation'\n",
      " 'FOODS_2_071_TX_3_evaluation' 'FOODS_2_209_TX_2_evaluation'\n",
      " 'FOODS_1_079_CA_2_evaluation' 'FOODS_2_337_CA_2_evaluation'\n",
      " 'FOODS_2_117_CA_4_evaluation' 'FOODS_2_209_CA_4_evaluation'\n",
      " 'FOODS_3_171_TX_3_evaluation' 'FOODS_2_158_CA_2_evaluation'\n",
      " 'HOBBIES_1_170_WI_3_evaluation' 'HOBBIES_1_026_CA_1_evaluation'\n",
      " 'HOBBIES_1_212_WI_2_evaluation' 'HOBBIES_1_063_CA_4_evaluation'\n",
      " 'HOBBIES_2_025_TX_1_evaluation' 'HOBBIES_2_025_CA_4_evaluation'\n",
      " 'HOBBIES_1_402_WI_1_evaluation' 'HOBBIES_1_230_CA_4_evaluation'\n",
      " 'HOBBIES_1_217_TX_1_evaluation' 'HOBBIES_1_186_WI_3_evaluation'\n",
      " 'HOUSEHOLD_2_216_CA_4_evaluation' 'HOUSEHOLD_1_378_CA_1_evaluation'\n",
      " 'HOUSEHOLD_1_020_CA_3_evaluation' 'HOUSEHOLD_2_307_CA_4_evaluation'\n",
      " 'HOUSEHOLD_1_336_CA_3_evaluation' 'HOUSEHOLD_2_130_WI_2_evaluation'\n",
      " 'HOUSEHOLD_1_512_CA_4_evaluation' 'HOUSEHOLD_1_073_CA_3_evaluation'\n",
      " 'HOUSEHOLD_2_307_WI_2_evaluation' 'HOUSEHOLD_2_101_WI_2_evaluation']\n"
     ]
    }
   ],
   "source": [
    "pred_manager.save_predictions(df_nix, df_pred, df_test)"
   ]
  },
  {
   "cell_type": "code",
   "execution_count": 32,
   "metadata": {},
   "outputs": [
    {
     "data": {
      "text/html": [
       "<div>\n",
       "<style scoped>\n",
       "    .dataframe tbody tr th:only-of-type {\n",
       "        vertical-align: middle;\n",
       "    }\n",
       "\n",
       "    .dataframe tbody tr th {\n",
       "        vertical-align: top;\n",
       "    }\n",
       "\n",
       "    .dataframe thead th {\n",
       "        text-align: right;\n",
       "    }\n",
       "</style>\n",
       "<table border=\"1\" class=\"dataframe\">\n",
       "  <thead>\n",
       "    <tr style=\"text-align: right;\">\n",
       "      <th></th>\n",
       "      <th>ds</th>\n",
       "      <th>AutoARIMA</th>\n",
       "      <th>ETS</th>\n",
       "      <th>Theta</th>\n",
       "      <th>unique_id</th>\n",
       "      <th>LGBMRegressor</th>\n",
       "      <th>XGBRegressor</th>\n",
       "      <th>LinearRegression</th>\n",
       "    </tr>\n",
       "  </thead>\n",
       "  <tbody>\n",
       "    <tr>\n",
       "      <th>0</th>\n",
       "      <td>2016-06-01</td>\n",
       "      <td>427363.00000</td>\n",
       "      <td>446587.53125</td>\n",
       "      <td>446331.59375</td>\n",
       "      <td>CA</td>\n",
       "      <td>452126.03125</td>\n",
       "      <td>445329.46875</td>\n",
       "      <td>506778.250</td>\n",
       "    </tr>\n",
       "    <tr>\n",
       "      <th>1</th>\n",
       "      <td>2016-07-01</td>\n",
       "      <td>441396.71875</td>\n",
       "      <td>446579.65625</td>\n",
       "      <td>447818.28125</td>\n",
       "      <td>CA</td>\n",
       "      <td>440662.93750</td>\n",
       "      <td>457238.25000</td>\n",
       "      <td>476376.000</td>\n",
       "    </tr>\n",
       "    <tr>\n",
       "      <th>2</th>\n",
       "      <td>2016-08-01</td>\n",
       "      <td>451900.43750</td>\n",
       "      <td>446573.37500</td>\n",
       "      <td>449304.96875</td>\n",
       "      <td>CA</td>\n",
       "      <td>458109.53125</td>\n",
       "      <td>469236.81250</td>\n",
       "      <td>471009.500</td>\n",
       "    </tr>\n",
       "    <tr>\n",
       "      <th>3</th>\n",
       "      <td>2016-09-01</td>\n",
       "      <td>437394.25000</td>\n",
       "      <td>446568.34375</td>\n",
       "      <td>450791.65625</td>\n",
       "      <td>CA</td>\n",
       "      <td>453497.90625</td>\n",
       "      <td>493523.06250</td>\n",
       "      <td>523182.750</td>\n",
       "    </tr>\n",
       "    <tr>\n",
       "      <th>4</th>\n",
       "      <td>2016-10-01</td>\n",
       "      <td>445677.06250</td>\n",
       "      <td>446564.31250</td>\n",
       "      <td>452278.34375</td>\n",
       "      <td>CA</td>\n",
       "      <td>447965.28125</td>\n",
       "      <td>461090.93750</td>\n",
       "      <td>474613.500</td>\n",
       "    </tr>\n",
       "    <tr>\n",
       "      <th>5</th>\n",
       "      <td>2016-11-01</td>\n",
       "      <td>416368.93750</td>\n",
       "      <td>446561.09375</td>\n",
       "      <td>453765.03125</td>\n",
       "      <td>CA</td>\n",
       "      <td>466381.37500</td>\n",
       "      <td>335757.96875</td>\n",
       "      <td>469907.875</td>\n",
       "    </tr>\n",
       "  </tbody>\n",
       "</table>\n",
       "</div>"
      ],
      "text/plain": [
       "          ds     AutoARIMA           ETS         Theta unique_id  \\\n",
       "0 2016-06-01  427363.00000  446587.53125  446331.59375        CA   \n",
       "1 2016-07-01  441396.71875  446579.65625  447818.28125        CA   \n",
       "2 2016-08-01  451900.43750  446573.37500  449304.96875        CA   \n",
       "3 2016-09-01  437394.25000  446568.34375  450791.65625        CA   \n",
       "4 2016-10-01  445677.06250  446564.31250  452278.34375        CA   \n",
       "5 2016-11-01  416368.93750  446561.09375  453765.03125        CA   \n",
       "\n",
       "   LGBMRegressor  XGBRegressor  LinearRegression  \n",
       "0   452126.03125  445329.46875        506778.250  \n",
       "1   440662.93750  457238.25000        476376.000  \n",
       "2   458109.53125  469236.81250        471009.500  \n",
       "3   453497.90625  493523.06250        523182.750  \n",
       "4   447965.28125  461090.93750        474613.500  \n",
       "5   466381.37500  335757.96875        469907.875  "
      ]
     },
     "execution_count": 32,
     "metadata": {},
     "output_type": "execute_result"
    }
   ],
   "source": [
    "original_series, prev_ca = pred_manager.get_prediction('CA')\n",
    "prev_ca.head(10)"
   ]
  },
  {
   "cell_type": "code",
   "execution_count": 33,
   "metadata": {},
   "outputs": [
    {
     "name": "stdout",
     "output_type": "stream",
     "text": [
      "Conexão fechada\n"
     ]
    }
   ],
   "source": [
    "pred_manager.close_connection()"
   ]
  }
 ],
 "metadata": {
  "kernelspec": {
   "display_name": "Python 3",
   "language": "python",
   "name": "python3"
  },
  "language_info": {
   "codemirror_mode": {
    "name": "ipython",
    "version": 3
   },
   "file_extension": ".py",
   "mimetype": "text/x-python",
   "name": "python",
   "nbconvert_exporter": "python",
   "pygments_lexer": "ipython3",
   "version": "3.11.5"
  }
 },
 "nbformat": 4,
 "nbformat_minor": 2
}
