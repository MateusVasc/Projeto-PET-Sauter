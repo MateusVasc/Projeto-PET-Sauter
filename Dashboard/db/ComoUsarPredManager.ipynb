{
 "cells": [
  {
   "cell_type": "markdown",
   "metadata": {},
   "source": [
    "#### Não precisa olhar esse código do Nixxla. Só fiz ele pra mostrar pra vocês os códigos do PredictionManager rodando"
   ]
  },
  {
   "cell_type": "code",
   "execution_count": 6,
   "metadata": {},
   "outputs": [],
   "source": [
    "# from mlforecast import MLForecast\n",
    "import pandas as pd"
   ]
  },
  {
   "cell_type": "code",
   "execution_count": null,
   "metadata": {},
   "outputs": [],
   "source": [
    "path = \"D:\\Programas\\PET\\M5_full.parquet\"\n",
    "\n",
    "dados = pd.read_parquet(path)"
   ]
  },
  {
   "cell_type": "code",
   "execution_count": null,
   "metadata": {},
   "outputs": [],
   "source": [
    "dados['date'] = pd.to_datetime(dados['date'])"
   ]
  },
  {
   "cell_type": "code",
   "execution_count": null,
   "metadata": {},
   "outputs": [],
   "source": [
    "dados['year_month'] = dados['date'].dt.to_period('M')"
   ]
  },
  {
   "cell_type": "code",
   "execution_count": null,
   "metadata": {},
   "outputs": [],
   "source": [
    "dados['year_month'] = dados['year_month'].dt.to_timestamp()"
   ]
  },
  {
   "cell_type": "code",
   "execution_count": null,
   "metadata": {},
   "outputs": [],
   "source": [
    "df_general = dados.groupby('year_month')['value'].sum().reset_index().set_index('year_month')"
   ]
  },
  {
   "cell_type": "code",
   "execution_count": null,
   "metadata": {},
   "outputs": [],
   "source": [
    "df_hobbies = dados.groupby(['cat_id', 'year_month'])['value'].sum().reset_index().set_index('year_month')\n",
    "df_hobbies = df_hobbies[df_hobbies['cat_id'] == 'HOBBIES']"
   ]
  },
  {
   "cell_type": "code",
   "execution_count": null,
   "metadata": {},
   "outputs": [],
   "source": [
    "df_nixtla_general = pd.DataFrame({'ds': df_general.index, 'y': df_general['value'].values, 'unique_id' : 'general'})\n",
    "df_nixtla_hobbies = pd.DataFrame({'ds': df_hobbies.index, 'y': df_hobbies['value'].values, 'unique_id': 'hobbies'})\n",
    "\n",
    "df_nixtla = pd.concat([df_nixtla_general, df_nixtla_hobbies], ignore_index=True)"
   ]
  },
  {
   "cell_type": "code",
   "execution_count": null,
   "metadata": {},
   "outputs": [],
   "source": [
    "test_size = (int)(df_nixtla.shape[0]*0.2)\n",
    "\n",
    "df_test = df_nixtla.tail(test_size)\n",
    "df_train = df_nixtla.drop(df_test.index)    "
   ]
  },
  {
   "cell_type": "code",
   "execution_count": null,
   "metadata": {},
   "outputs": [],
   "source": [
    "from sklearn.base import BaseEstimator\n",
    "\n",
    "class Naive(BaseEstimator):\n",
    "    def fit(self, X, y):\n",
    "        return self\n",
    "\n",
    "    def predict(self, X):\n",
    "        return X['lag1']"
   ]
  },
  {
   "cell_type": "code",
   "execution_count": null,
   "metadata": {},
   "outputs": [],
   "source": [
    "from sklearn.tree import DecisionTreeRegressor\n",
    "from sklearn.linear_model import LinearRegression"
   ]
  },
  {
   "cell_type": "code",
   "execution_count": null,
   "metadata": {},
   "outputs": [],
   "source": [
    "selected_models = [\n",
    "    DecisionTreeRegressor(),\n",
    "    LinearRegression(),\n",
    "    Naive()\n",
    "]"
   ]
  },
  {
   "cell_type": "code",
   "execution_count": null,
   "metadata": {},
   "outputs": [],
   "source": [
    "ml_forecast = MLForecast(\n",
    "    models = selected_models,\n",
    "    freq = 'M',\n",
    "    lags=[1,2,3,4,5,6]\n",
    ")"
   ]
  },
  {
   "cell_type": "code",
   "execution_count": null,
   "metadata": {},
   "outputs": [],
   "source": [
    "ml_forecast.fit(df_nixtla)"
   ]
  },
  {
   "cell_type": "markdown",
   "metadata": {},
   "source": [
    "##### Aqui é o que precisa ser salvo"
   ]
  },
  {
   "cell_type": "code",
   "execution_count": null,
   "metadata": {},
   "outputs": [],
   "source": [
    "predict_full = ml_forecast.predict(6)"
   ]
  },
  {
   "cell_type": "markdown",
   "metadata": {},
   "source": [
    "#### Vocês precisam usar isso aqui pra fazer o dashboard"
   ]
  },
  {
   "cell_type": "markdown",
   "metadata": {},
   "source": [
    "##### Essa classe serve pra gerenciar as predições no nosso Banco de Dados de predição. Basicamente, serve como uma API pra salvar e consultar as predições feitas pelo Nixxla."
   ]
  },
  {
   "cell_type": "code",
   "execution_count": 7,
   "metadata": {},
   "outputs": [],
   "source": [
    "from PredictionsManager import PredictionsManager"
   ]
  },
  {
   "cell_type": "markdown",
   "metadata": {},
   "source": [
    "##### Esse path pro db eu criei pra testar a classe, então criem onde ficar melhor pra rodar o dashboard"
   ]
  },
  {
   "cell_type": "code",
   "execution_count": 2,
   "metadata": {},
   "outputs": [],
   "source": [
    "db_path = 'predictions.db'"
   ]
  },
  {
   "cell_type": "code",
   "execution_count": 3,
   "metadata": {},
   "outputs": [],
   "source": [
    "pred_manager = PredictionsManager(db_path=db_path)"
   ]
  },
  {
   "cell_type": "markdown",
   "metadata": {},
   "source": [
    "##### Vejam que o meu DataFrame 'pred_full' tem as previsões de todos os modelos que eu selecionei pra cada uma dos unique_id"
   ]
  },
  {
   "cell_type": "code",
   "execution_count": null,
   "metadata": {},
   "outputs": [],
   "source": [
    "predict_full.head(5)"
   ]
  },
  {
   "cell_type": "code",
   "execution_count": null,
   "metadata": {},
   "outputs": [],
   "source": [
    "predict_full.tail(5)"
   ]
  },
  {
   "cell_type": "markdown",
   "metadata": {},
   "source": [
    "##### Pra salvar essas previsões na base de dados basta passar esse o df_nixtla q a gnt usou pra fazer as previsões e o predict, que o manager vai separar cada previsão em uma tabela com o nome correspondente ao 'unique_id' dela em 'predict_full'. Exemplo: pra o dataframe 'general', o manager vai criar uma tabela 'general' com o df original e uma tabela 'prev_general' com a previsao."
   ]
  },
  {
   "cell_type": "code",
   "execution_count": null,
   "metadata": {},
   "outputs": [],
   "source": [
    "pred_manager.save_predictions(df_nixtla, predict_full)"
   ]
  },
  {
   "cell_type": "markdown",
   "metadata": {},
   "source": [
    "##### Pra pegar as previsões, é só usar o método abaixo e pasasr o 'unique_id' correspondente a previsão que você quer e ele vai retornar o dataframe original e o dataframe da previsao. Seguindo o exemplo acima, se vc quiser pegar a previsao pra general, vc vai botar a string 'general' e receber o dataframe original e a previsao dele numa tupla nessa ordem."
   ]
  },
  {
   "cell_type": "code",
   "execution_count": null,
   "metadata": {},
   "outputs": [],
   "source": [
    "original_series, prev_hobbies = pred_manager.get_prediction('general')\n",
    "original_series.head()"
   ]
  },
  {
   "cell_type": "code",
   "execution_count": null,
   "metadata": {},
   "outputs": [],
   "source": [
    "prev_hobbies.head()"
   ]
  },
  {
   "cell_type": "markdown",
   "metadata": {},
   "source": [
    "##### Depois de usar essa classe pra salvar/pegar algum dado no BD, lembrem de fechar a conexão."
   ]
  },
  {
   "cell_type": "code",
   "execution_count": 4,
   "metadata": {},
   "outputs": [
    {
     "name": "stdout",
     "output_type": "stream",
     "text": [
      "Conexão fechada\n"
     ]
    }
   ],
   "source": [
    "pred_manager.close_connection()"
   ]
  },
  {
   "cell_type": "markdown",
   "metadata": {},
   "source": [
    "##### Adicionando previsões"
   ]
  },
  {
   "cell_type": "markdown",
   "metadata": {},
   "source": [
    "adicionei um arquivo com as previsões dos treinos (no caso, a df_teste)"
   ]
  },
  {
   "cell_type": "code",
   "execution_count": 8,
   "metadata": {},
   "outputs": [],
   "source": [
    "path_pred = \"../../data/predictions.parquet\"\n",
    "path_test = \"../../data/tests.parquet\"\n",
    "path_nix = \"../../data/all_M5_series.parquet\"\n",
    "\n",
    "df_nix = pd.read_parquet(path_nix)\n",
    "df_test = pd.read_parquet(path_test)\n",
    "df_pred = pd.read_parquet(path_pred)"
   ]
  },
  {
   "cell_type": "code",
   "execution_count": 9,
   "metadata": {},
   "outputs": [],
   "source": [
    "df_nix['ds'] = df_nix['ds'].dt.to_timestamp()"
   ]
  },
  {
   "cell_type": "code",
   "execution_count": 11,
   "metadata": {},
   "outputs": [
    {
     "name": "stdout",
     "output_type": "stream",
     "text": [
      "<class 'pandas.core.frame.DataFrame'>\n",
      "RangeIndex: 1982955 entries, 0 to 1982954\n",
      "Data columns (total 3 columns):\n",
      " #   Column     Dtype         \n",
      "---  ------     -----         \n",
      " 0   unique_id  object        \n",
      " 1   ds         datetime64[ns]\n",
      " 2   y          int64         \n",
      "dtypes: datetime64[ns](1), int64(1), object(1)\n",
      "memory usage: 45.4+ MB\n"
     ]
    }
   ],
   "source": [
    "df_nix.info()"
   ]
  },
  {
   "cell_type": "code",
   "execution_count": 18,
   "metadata": {},
   "outputs": [
    {
     "name": "stdout",
     "output_type": "stream",
     "text": [
      "<class 'pandas.core.frame.DataFrame'>\n",
      "RangeIndex: 462 entries, 0 to 461\n",
      "Data columns (total 8 columns):\n",
      " #   Column            Non-Null Count  Dtype         \n",
      "---  ------            --------------  -----         \n",
      " 0   ds                462 non-null    datetime64[ns]\n",
      " 1   AutoARIMA         462 non-null    float32       \n",
      " 2   ETS               462 non-null    float32       \n",
      " 3   Theta             462 non-null    float32       \n",
      " 4   unique_id         462 non-null    object        \n",
      " 5   LGBMRegressor     462 non-null    float32       \n",
      " 6   XGBRegressor      462 non-null    float32       \n",
      " 7   LinearRegression  462 non-null    float32       \n",
      "dtypes: datetime64[ns](1), float32(6), object(1)\n",
      "memory usage: 18.2+ KB\n"
     ]
    }
   ],
   "source": [
    "df_pred.info()"
   ]
  },
  {
   "cell_type": "code",
   "execution_count": 13,
   "metadata": {},
   "outputs": [
    {
     "data": {
      "text/html": [
       "<div>\n",
       "<style scoped>\n",
       "    .dataframe tbody tr th:only-of-type {\n",
       "        vertical-align: middle;\n",
       "    }\n",
       "\n",
       "    .dataframe tbody tr th {\n",
       "        vertical-align: top;\n",
       "    }\n",
       "\n",
       "    .dataframe thead th {\n",
       "        text-align: right;\n",
       "    }\n",
       "</style>\n",
       "<table border=\"1\" class=\"dataframe\">\n",
       "  <thead>\n",
       "    <tr style=\"text-align: right;\">\n",
       "      <th></th>\n",
       "      <th>ds</th>\n",
       "      <th>AutoARIMA</th>\n",
       "      <th>ETS</th>\n",
       "      <th>Theta</th>\n",
       "      <th>unique_id</th>\n",
       "      <th>LGBMRegressor</th>\n",
       "      <th>XGBRegressor</th>\n",
       "      <th>LinearRegression</th>\n",
       "    </tr>\n",
       "  </thead>\n",
       "  <tbody>\n",
       "    <tr>\n",
       "      <th>0</th>\n",
       "      <td>2016-06-01</td>\n",
       "      <td>9.958907e+05</td>\n",
       "      <td>1164433.125</td>\n",
       "      <td>1092296.000</td>\n",
       "      <td>RTM</td>\n",
       "      <td>1.033812e+06</td>\n",
       "      <td>1035732.000</td>\n",
       "      <td>1136894.0</td>\n",
       "    </tr>\n",
       "    <tr>\n",
       "      <th>1</th>\n",
       "      <td>2016-07-01</td>\n",
       "      <td>1.022800e+06</td>\n",
       "      <td>1164426.375</td>\n",
       "      <td>1095954.625</td>\n",
       "      <td>RTM</td>\n",
       "      <td>1.007906e+06</td>\n",
       "      <td>1022319.000</td>\n",
       "      <td>1140518.0</td>\n",
       "    </tr>\n",
       "    <tr>\n",
       "      <th>2</th>\n",
       "      <td>2016-08-01</td>\n",
       "      <td>1.030601e+06</td>\n",
       "      <td>1164421.000</td>\n",
       "      <td>1099613.250</td>\n",
       "      <td>RTM</td>\n",
       "      <td>1.057832e+06</td>\n",
       "      <td>1049496.750</td>\n",
       "      <td>1149934.0</td>\n",
       "    </tr>\n",
       "    <tr>\n",
       "      <th>3</th>\n",
       "      <td>2016-09-01</td>\n",
       "      <td>1.007602e+06</td>\n",
       "      <td>1164416.625</td>\n",
       "      <td>1103271.875</td>\n",
       "      <td>RTM</td>\n",
       "      <td>1.054494e+06</td>\n",
       "      <td>1118830.625</td>\n",
       "      <td>1300930.0</td>\n",
       "    </tr>\n",
       "    <tr>\n",
       "      <th>4</th>\n",
       "      <td>2016-10-01</td>\n",
       "      <td>1.028526e+06</td>\n",
       "      <td>1164413.250</td>\n",
       "      <td>1106930.500</td>\n",
       "      <td>RTM</td>\n",
       "      <td>1.043091e+06</td>\n",
       "      <td>1009637.875</td>\n",
       "      <td>1228774.0</td>\n",
       "    </tr>\n",
       "  </tbody>\n",
       "</table>\n",
       "</div>"
      ],
      "text/plain": [
       "          ds     AutoARIMA          ETS        Theta unique_id  LGBMRegressor  \\\n",
       "0 2016-06-01  9.958907e+05  1164433.125  1092296.000       RTM   1.033812e+06   \n",
       "1 2016-07-01  1.022800e+06  1164426.375  1095954.625       RTM   1.007906e+06   \n",
       "2 2016-08-01  1.030601e+06  1164421.000  1099613.250       RTM   1.057832e+06   \n",
       "3 2016-09-01  1.007602e+06  1164416.625  1103271.875       RTM   1.054494e+06   \n",
       "4 2016-10-01  1.028526e+06  1164413.250  1106930.500       RTM   1.043091e+06   \n",
       "\n",
       "   XGBRegressor  LinearRegression  \n",
       "0   1035732.000         1136894.0  \n",
       "1   1022319.000         1140518.0  \n",
       "2   1049496.750         1149934.0  \n",
       "3   1118830.625         1300930.0  \n",
       "4   1009637.875         1228774.0  "
      ]
     },
     "execution_count": 13,
     "metadata": {},
     "output_type": "execute_result"
    }
   ],
   "source": [
    "df_pred.head()"
   ]
  },
  {
   "cell_type": "code",
   "execution_count": 17,
   "metadata": {},
   "outputs": [
    {
     "name": "stdout",
     "output_type": "stream",
     "text": [
      "<class 'pandas.core.frame.DataFrame'>\n",
      "RangeIndex: 924 entries, 0 to 923\n",
      "Data columns (total 8 columns):\n",
      " #   Column            Non-Null Count  Dtype         \n",
      "---  ------            --------------  -----         \n",
      " 0   ds                924 non-null    datetime64[ns]\n",
      " 1   AutoARIMA         924 non-null    float32       \n",
      " 2   ETS               924 non-null    float32       \n",
      " 3   Theta             924 non-null    float32       \n",
      " 4   unique_id         924 non-null    object        \n",
      " 5   LGBMRegressor     924 non-null    float32       \n",
      " 6   XGBRegressor      924 non-null    float32       \n",
      " 7   LinearRegression  924 non-null    float32       \n",
      "dtypes: datetime64[ns](1), float32(6), object(1)\n",
      "memory usage: 36.2+ KB\n"
     ]
    }
   ],
   "source": [
    "df_test.info()"
   ]
  },
  {
   "cell_type": "code",
   "execution_count": 20,
   "metadata": {},
   "outputs": [
    {
     "data": {
      "text/html": [
       "<div>\n",
       "<style scoped>\n",
       "    .dataframe tbody tr th:only-of-type {\n",
       "        vertical-align: middle;\n",
       "    }\n",
       "\n",
       "    .dataframe tbody tr th {\n",
       "        vertical-align: top;\n",
       "    }\n",
       "\n",
       "    .dataframe thead th {\n",
       "        text-align: right;\n",
       "    }\n",
       "</style>\n",
       "<table border=\"1\" class=\"dataframe\">\n",
       "  <thead>\n",
       "    <tr style=\"text-align: right;\">\n",
       "      <th></th>\n",
       "      <th>ds</th>\n",
       "      <th>AutoARIMA</th>\n",
       "      <th>ETS</th>\n",
       "      <th>Theta</th>\n",
       "      <th>unique_id</th>\n",
       "      <th>LGBMRegressor</th>\n",
       "      <th>XGBRegressor</th>\n",
       "      <th>LinearRegression</th>\n",
       "    </tr>\n",
       "  </thead>\n",
       "  <tbody>\n",
       "    <tr>\n",
       "      <th>0</th>\n",
       "      <td>2015-06-01</td>\n",
       "      <td>1.159039e+06</td>\n",
       "      <td>1.095347e+06</td>\n",
       "      <td>1.143320e+06</td>\n",
       "      <td>RTM</td>\n",
       "      <td>1.173777e+06</td>\n",
       "      <td>1.213080e+06</td>\n",
       "      <td>1161696.0</td>\n",
       "    </tr>\n",
       "    <tr>\n",
       "      <th>1</th>\n",
       "      <td>2015-07-01</td>\n",
       "      <td>1.173883e+06</td>\n",
       "      <td>1.095444e+06</td>\n",
       "      <td>1.147542e+06</td>\n",
       "      <td>RTM</td>\n",
       "      <td>1.129370e+06</td>\n",
       "      <td>1.251465e+06</td>\n",
       "      <td>1113854.0</td>\n",
       "    </tr>\n",
       "    <tr>\n",
       "      <th>2</th>\n",
       "      <td>2015-08-01</td>\n",
       "      <td>1.185385e+06</td>\n",
       "      <td>1.095529e+06</td>\n",
       "      <td>1.151764e+06</td>\n",
       "      <td>RTM</td>\n",
       "      <td>1.163184e+06</td>\n",
       "      <td>1.285105e+06</td>\n",
       "      <td>1163578.0</td>\n",
       "    </tr>\n",
       "    <tr>\n",
       "      <th>3</th>\n",
       "      <td>2015-09-01</td>\n",
       "      <td>1.151350e+06</td>\n",
       "      <td>1.095604e+06</td>\n",
       "      <td>1.155986e+06</td>\n",
       "      <td>RTM</td>\n",
       "      <td>1.127464e+06</td>\n",
       "      <td>1.289022e+06</td>\n",
       "      <td>1102324.0</td>\n",
       "    </tr>\n",
       "    <tr>\n",
       "      <th>4</th>\n",
       "      <td>2015-10-01</td>\n",
       "      <td>1.156566e+06</td>\n",
       "      <td>1.095670e+06</td>\n",
       "      <td>1.160208e+06</td>\n",
       "      <td>RTM</td>\n",
       "      <td>1.126176e+06</td>\n",
       "      <td>1.234733e+06</td>\n",
       "      <td>1094476.0</td>\n",
       "    </tr>\n",
       "    <tr>\n",
       "      <th>5</th>\n",
       "      <td>2015-11-01</td>\n",
       "      <td>1.138070e+06</td>\n",
       "      <td>1.095728e+06</td>\n",
       "      <td>1.164431e+06</td>\n",
       "      <td>RTM</td>\n",
       "      <td>1.141042e+06</td>\n",
       "      <td>1.185206e+06</td>\n",
       "      <td>1085862.0</td>\n",
       "    </tr>\n",
       "    <tr>\n",
       "      <th>6</th>\n",
       "      <td>2015-12-01</td>\n",
       "      <td>1.124687e+06</td>\n",
       "      <td>1.095779e+06</td>\n",
       "      <td>1.168653e+06</td>\n",
       "      <td>RTM</td>\n",
       "      <td>1.105323e+06</td>\n",
       "      <td>1.193307e+06</td>\n",
       "      <td>1034818.0</td>\n",
       "    </tr>\n",
       "    <tr>\n",
       "      <th>7</th>\n",
       "      <td>2016-01-01</td>\n",
       "      <td>1.149465e+06</td>\n",
       "      <td>1.095824e+06</td>\n",
       "      <td>1.172875e+06</td>\n",
       "      <td>RTM</td>\n",
       "      <td>1.139136e+06</td>\n",
       "      <td>1.159040e+06</td>\n",
       "      <td>1060320.0</td>\n",
       "    </tr>\n",
       "    <tr>\n",
       "      <th>8</th>\n",
       "      <td>2016-02-01</td>\n",
       "      <td>1.131241e+06</td>\n",
       "      <td>1.095863e+06</td>\n",
       "      <td>1.177098e+06</td>\n",
       "      <td>RTM</td>\n",
       "      <td>1.139145e+06</td>\n",
       "      <td>1.193976e+06</td>\n",
       "      <td>1061762.0</td>\n",
       "    </tr>\n",
       "    <tr>\n",
       "      <th>9</th>\n",
       "      <td>2016-03-01</td>\n",
       "      <td>1.162488e+06</td>\n",
       "      <td>1.095897e+06</td>\n",
       "      <td>1.181320e+06</td>\n",
       "      <td>RTM</td>\n",
       "      <td>1.145364e+06</td>\n",
       "      <td>1.254852e+06</td>\n",
       "      <td>1091998.0</td>\n",
       "    </tr>\n",
       "    <tr>\n",
       "      <th>10</th>\n",
       "      <td>2016-04-01</td>\n",
       "      <td>1.153134e+06</td>\n",
       "      <td>1.095928e+06</td>\n",
       "      <td>1.185542e+06</td>\n",
       "      <td>RTM</td>\n",
       "      <td>1.166127e+06</td>\n",
       "      <td>1.220793e+06</td>\n",
       "      <td>1110316.0</td>\n",
       "    </tr>\n",
       "    <tr>\n",
       "      <th>11</th>\n",
       "      <td>2016-05-01</td>\n",
       "      <td>1.174327e+06</td>\n",
       "      <td>1.095954e+06</td>\n",
       "      <td>1.189764e+06</td>\n",
       "      <td>RTM</td>\n",
       "      <td>1.122348e+06</td>\n",
       "      <td>1.232772e+06</td>\n",
       "      <td>1120048.0</td>\n",
       "    </tr>\n",
       "    <tr>\n",
       "      <th>12</th>\n",
       "      <td>2015-06-01</td>\n",
       "      <td>4.922393e+05</td>\n",
       "      <td>4.850852e+05</td>\n",
       "      <td>4.871567e+05</td>\n",
       "      <td>CA</td>\n",
       "      <td>5.004791e+05</td>\n",
       "      <td>5.290759e+05</td>\n",
       "      <td>506133.0</td>\n",
       "    </tr>\n",
       "    <tr>\n",
       "      <th>13</th>\n",
       "      <td>2015-07-01</td>\n",
       "      <td>4.997987e+05</td>\n",
       "      <td>4.850882e+05</td>\n",
       "      <td>4.888738e+05</td>\n",
       "      <td>CA</td>\n",
       "      <td>4.918811e+05</td>\n",
       "      <td>5.340392e+05</td>\n",
       "      <td>496344.5</td>\n",
       "    </tr>\n",
       "  </tbody>\n",
       "</table>\n",
       "</div>"
      ],
      "text/plain": [
       "           ds     AutoARIMA           ETS         Theta unique_id  \\\n",
       "0  2015-06-01  1.159039e+06  1.095347e+06  1.143320e+06       RTM   \n",
       "1  2015-07-01  1.173883e+06  1.095444e+06  1.147542e+06       RTM   \n",
       "2  2015-08-01  1.185385e+06  1.095529e+06  1.151764e+06       RTM   \n",
       "3  2015-09-01  1.151350e+06  1.095604e+06  1.155986e+06       RTM   \n",
       "4  2015-10-01  1.156566e+06  1.095670e+06  1.160208e+06       RTM   \n",
       "5  2015-11-01  1.138070e+06  1.095728e+06  1.164431e+06       RTM   \n",
       "6  2015-12-01  1.124687e+06  1.095779e+06  1.168653e+06       RTM   \n",
       "7  2016-01-01  1.149465e+06  1.095824e+06  1.172875e+06       RTM   \n",
       "8  2016-02-01  1.131241e+06  1.095863e+06  1.177098e+06       RTM   \n",
       "9  2016-03-01  1.162488e+06  1.095897e+06  1.181320e+06       RTM   \n",
       "10 2016-04-01  1.153134e+06  1.095928e+06  1.185542e+06       RTM   \n",
       "11 2016-05-01  1.174327e+06  1.095954e+06  1.189764e+06       RTM   \n",
       "12 2015-06-01  4.922393e+05  4.850852e+05  4.871567e+05        CA   \n",
       "13 2015-07-01  4.997987e+05  4.850882e+05  4.888738e+05        CA   \n",
       "\n",
       "    LGBMRegressor  XGBRegressor  LinearRegression  \n",
       "0    1.173777e+06  1.213080e+06         1161696.0  \n",
       "1    1.129370e+06  1.251465e+06         1113854.0  \n",
       "2    1.163184e+06  1.285105e+06         1163578.0  \n",
       "3    1.127464e+06  1.289022e+06         1102324.0  \n",
       "4    1.126176e+06  1.234733e+06         1094476.0  \n",
       "5    1.141042e+06  1.185206e+06         1085862.0  \n",
       "6    1.105323e+06  1.193307e+06         1034818.0  \n",
       "7    1.139136e+06  1.159040e+06         1060320.0  \n",
       "8    1.139145e+06  1.193976e+06         1061762.0  \n",
       "9    1.145364e+06  1.254852e+06         1091998.0  \n",
       "10   1.166127e+06  1.220793e+06         1110316.0  \n",
       "11   1.122348e+06  1.232772e+06         1120048.0  \n",
       "12   5.004791e+05  5.290759e+05          506133.0  \n",
       "13   4.918811e+05  5.340392e+05          496344.5  "
      ]
     },
     "execution_count": 20,
     "metadata": {},
     "output_type": "execute_result"
    }
   ],
   "source": [
    "df_test.head(14)"
   ]
  },
  {
   "cell_type": "code",
   "execution_count": 21,
   "metadata": {},
   "outputs": [],
   "source": [
    "db_path = 'predictions.db'"
   ]
  },
  {
   "cell_type": "code",
   "execution_count": 22,
   "metadata": {},
   "outputs": [],
   "source": [
    "pred_manager = PredictionsManager(db_path=db_path)"
   ]
  },
  {
   "cell_type": "code",
   "execution_count": 23,
   "metadata": {},
   "outputs": [
    {
     "name": "stdout",
     "output_type": "stream",
     "text": [
      "Todas as previsões foram salvas em tabelas chamadas: ['RTM' 'CA' 'TX' 'WI' 'CA_1' 'CA_2' 'CA_3' 'CA_4' 'TX_1' 'TX_2' 'TX_3'\n",
      " 'WI_1' 'WI_2' 'WI_3' 'FOODS' 'HOBBIES' 'HOUSEHOLD'\n",
      " 'FOODS_3_090_CA_3_evaluation' 'FOODS_3_586_TX_2_evaluation'\n",
      " 'FOODS_3_586_TX_3_evaluation' 'FOODS_3_586_CA_3_evaluation'\n",
      " 'FOODS_3_090_CA_1_evaluation' 'FOODS_3_090_WI_3_evaluation'\n",
      " 'FOODS_3_090_TX_2_evaluation' 'FOODS_3_090_TX_3_evaluation'\n",
      " 'FOODS_3_252_TX_2_evaluation' 'FOODS_3_586_TX_1_evaluation'\n",
      " 'HOBBIES_1_234_CA_3_evaluation' 'HOBBIES_1_348_CA_1_evaluation'\n",
      " 'HOBBIES_1_371_CA_1_evaluation' 'HOBBIES_1_254_CA_3_evaluation'\n",
      " 'HOBBIES_1_371_CA_3_evaluation' 'HOBBIES_1_348_CA_3_evaluation'\n",
      " 'HOBBIES_1_268_CA_1_evaluation' 'HOBBIES_1_341_CA_3_evaluation'\n",
      " 'HOBBIES_1_015_CA_3_evaluation' 'HOBBIES_1_268_CA_3_evaluation'\n",
      " 'HOUSEHOLD_1_118_CA_3_evaluation' 'HOUSEHOLD_1_459_CA_3_evaluation'\n",
      " 'HOUSEHOLD_1_334_CA_3_evaluation' 'HOUSEHOLD_1_303_CA_3_evaluation'\n",
      " 'HOUSEHOLD_1_521_CA_3_evaluation' 'HOUSEHOLD_1_459_WI_2_evaluation'\n",
      " 'HOUSEHOLD_1_465_CA_3_evaluation' 'HOUSEHOLD_1_351_CA_3_evaluation'\n",
      " 'HOUSEHOLD_1_019_CA_3_evaluation' 'HOUSEHOLD_1_110_WI_2_evaluation'\n",
      " 'FOODS_3_778_CA_2_evaluation' 'FOODS_2_057_WI_2_evaluation'\n",
      " 'FOODS_2_071_TX_3_evaluation' 'FOODS_2_209_TX_2_evaluation'\n",
      " 'FOODS_1_079_CA_2_evaluation' 'FOODS_2_337_CA_2_evaluation'\n",
      " 'FOODS_2_117_CA_4_evaluation' 'FOODS_2_209_CA_4_evaluation'\n",
      " 'FOODS_3_171_TX_3_evaluation' 'FOODS_2_158_CA_2_evaluation'\n",
      " 'HOBBIES_1_170_WI_3_evaluation' 'HOBBIES_1_026_CA_1_evaluation'\n",
      " 'HOBBIES_1_212_WI_2_evaluation' 'HOBBIES_1_063_CA_4_evaluation'\n",
      " 'HOBBIES_2_025_TX_1_evaluation' 'HOBBIES_2_025_CA_4_evaluation'\n",
      " 'HOBBIES_1_402_WI_1_evaluation' 'HOBBIES_1_230_CA_4_evaluation'\n",
      " 'HOBBIES_1_217_TX_1_evaluation' 'HOBBIES_1_186_WI_3_evaluation'\n",
      " 'HOUSEHOLD_2_216_CA_4_evaluation' 'HOUSEHOLD_1_378_CA_1_evaluation'\n",
      " 'HOUSEHOLD_1_020_CA_3_evaluation' 'HOUSEHOLD_2_307_CA_4_evaluation'\n",
      " 'HOUSEHOLD_1_336_CA_3_evaluation' 'HOUSEHOLD_2_130_WI_2_evaluation'\n",
      " 'HOUSEHOLD_1_512_CA_4_evaluation' 'HOUSEHOLD_1_073_CA_3_evaluation'\n",
      " 'HOUSEHOLD_2_307_WI_2_evaluation' 'HOUSEHOLD_2_101_WI_2_evaluation']\n"
     ]
    }
   ],
   "source": [
    "pred_manager.save_predictions(df_nix, df_pred, df_test)"
   ]
  },
  {
   "cell_type": "code",
   "execution_count": 24,
   "metadata": {},
   "outputs": [
    {
     "data": {
      "text/html": [
       "<div>\n",
       "<style scoped>\n",
       "    .dataframe tbody tr th:only-of-type {\n",
       "        vertical-align: middle;\n",
       "    }\n",
       "\n",
       "    .dataframe tbody tr th {\n",
       "        vertical-align: top;\n",
       "    }\n",
       "\n",
       "    .dataframe thead th {\n",
       "        text-align: right;\n",
       "    }\n",
       "</style>\n",
       "<table border=\"1\" class=\"dataframe\">\n",
       "  <thead>\n",
       "    <tr style=\"text-align: right;\">\n",
       "      <th></th>\n",
       "      <th>ds</th>\n",
       "      <th>AutoARIMA</th>\n",
       "      <th>ETS</th>\n",
       "      <th>Theta</th>\n",
       "      <th>unique_id</th>\n",
       "      <th>LGBMRegressor</th>\n",
       "      <th>XGBRegressor</th>\n",
       "      <th>LinearRegression</th>\n",
       "    </tr>\n",
       "  </thead>\n",
       "  <tbody>\n",
       "    <tr>\n",
       "      <th>0</th>\n",
       "      <td>2016-06-01</td>\n",
       "      <td>9.958907e+05</td>\n",
       "      <td>1164433.125</td>\n",
       "      <td>1092296.000</td>\n",
       "      <td>RTM</td>\n",
       "      <td>1.033812e+06</td>\n",
       "      <td>1035732.000</td>\n",
       "      <td>1136894.0</td>\n",
       "    </tr>\n",
       "    <tr>\n",
       "      <th>1</th>\n",
       "      <td>2016-07-01</td>\n",
       "      <td>1.022800e+06</td>\n",
       "      <td>1164426.375</td>\n",
       "      <td>1095954.625</td>\n",
       "      <td>RTM</td>\n",
       "      <td>1.007906e+06</td>\n",
       "      <td>1022319.000</td>\n",
       "      <td>1140518.0</td>\n",
       "    </tr>\n",
       "    <tr>\n",
       "      <th>2</th>\n",
       "      <td>2016-08-01</td>\n",
       "      <td>1.030601e+06</td>\n",
       "      <td>1164421.000</td>\n",
       "      <td>1099613.250</td>\n",
       "      <td>RTM</td>\n",
       "      <td>1.057832e+06</td>\n",
       "      <td>1049496.750</td>\n",
       "      <td>1149934.0</td>\n",
       "    </tr>\n",
       "    <tr>\n",
       "      <th>3</th>\n",
       "      <td>2016-09-01</td>\n",
       "      <td>1.007602e+06</td>\n",
       "      <td>1164416.625</td>\n",
       "      <td>1103271.875</td>\n",
       "      <td>RTM</td>\n",
       "      <td>1.054494e+06</td>\n",
       "      <td>1118830.625</td>\n",
       "      <td>1300930.0</td>\n",
       "    </tr>\n",
       "    <tr>\n",
       "      <th>4</th>\n",
       "      <td>2016-10-01</td>\n",
       "      <td>1.028526e+06</td>\n",
       "      <td>1164413.250</td>\n",
       "      <td>1106930.500</td>\n",
       "      <td>RTM</td>\n",
       "      <td>1.043091e+06</td>\n",
       "      <td>1009637.875</td>\n",
       "      <td>1228774.0</td>\n",
       "    </tr>\n",
       "    <tr>\n",
       "      <th>5</th>\n",
       "      <td>2016-11-01</td>\n",
       "      <td>9.812590e+05</td>\n",
       "      <td>1164410.500</td>\n",
       "      <td>1110589.125</td>\n",
       "      <td>RTM</td>\n",
       "      <td>1.072867e+06</td>\n",
       "      <td>770532.375</td>\n",
       "      <td>1174666.0</td>\n",
       "    </tr>\n",
       "  </tbody>\n",
       "</table>\n",
       "</div>"
      ],
      "text/plain": [
       "          ds     AutoARIMA          ETS        Theta unique_id  LGBMRegressor  \\\n",
       "0 2016-06-01  9.958907e+05  1164433.125  1092296.000       RTM   1.033812e+06   \n",
       "1 2016-07-01  1.022800e+06  1164426.375  1095954.625       RTM   1.007906e+06   \n",
       "2 2016-08-01  1.030601e+06  1164421.000  1099613.250       RTM   1.057832e+06   \n",
       "3 2016-09-01  1.007602e+06  1164416.625  1103271.875       RTM   1.054494e+06   \n",
       "4 2016-10-01  1.028526e+06  1164413.250  1106930.500       RTM   1.043091e+06   \n",
       "5 2016-11-01  9.812590e+05  1164410.500  1110589.125       RTM   1.072867e+06   \n",
       "\n",
       "   XGBRegressor  LinearRegression  \n",
       "0   1035732.000         1136894.0  \n",
       "1   1022319.000         1140518.0  \n",
       "2   1049496.750         1149934.0  \n",
       "3   1118830.625         1300930.0  \n",
       "4   1009637.875         1228774.0  \n",
       "5    770532.375         1174666.0  "
      ]
     },
     "execution_count": 24,
     "metadata": {},
     "output_type": "execute_result"
    }
   ],
   "source": [
    "original_series, prev_ca, test_ca = pred_manager.get_prediction('RTM')\n",
    "prev_ca.head(10)"
   ]
  },
  {
   "cell_type": "code",
   "execution_count": 25,
   "metadata": {},
   "outputs": [
    {
     "data": {
      "text/html": [
       "<div>\n",
       "<style scoped>\n",
       "    .dataframe tbody tr th:only-of-type {\n",
       "        vertical-align: middle;\n",
       "    }\n",
       "\n",
       "    .dataframe tbody tr th {\n",
       "        vertical-align: top;\n",
       "    }\n",
       "\n",
       "    .dataframe thead th {\n",
       "        text-align: right;\n",
       "    }\n",
       "</style>\n",
       "<table border=\"1\" class=\"dataframe\">\n",
       "  <thead>\n",
       "    <tr style=\"text-align: right;\">\n",
       "      <th></th>\n",
       "      <th>ds</th>\n",
       "      <th>AutoARIMA</th>\n",
       "      <th>ETS</th>\n",
       "      <th>Theta</th>\n",
       "      <th>unique_id</th>\n",
       "      <th>LGBMRegressor</th>\n",
       "      <th>XGBRegressor</th>\n",
       "      <th>LinearRegression</th>\n",
       "    </tr>\n",
       "  </thead>\n",
       "  <tbody>\n",
       "    <tr>\n",
       "      <th>0</th>\n",
       "      <td>2015-06-01</td>\n",
       "      <td>1159039.000</td>\n",
       "      <td>1095346.625</td>\n",
       "      <td>1143319.50</td>\n",
       "      <td>RTM</td>\n",
       "      <td>1173776.875</td>\n",
       "      <td>1213079.750</td>\n",
       "      <td>1161696.0</td>\n",
       "    </tr>\n",
       "    <tr>\n",
       "      <th>1</th>\n",
       "      <td>2015-07-01</td>\n",
       "      <td>1173882.750</td>\n",
       "      <td>1095443.750</td>\n",
       "      <td>1147541.75</td>\n",
       "      <td>RTM</td>\n",
       "      <td>1129370.375</td>\n",
       "      <td>1251464.875</td>\n",
       "      <td>1113854.0</td>\n",
       "    </tr>\n",
       "    <tr>\n",
       "      <th>2</th>\n",
       "      <td>2015-08-01</td>\n",
       "      <td>1185384.875</td>\n",
       "      <td>1095529.125</td>\n",
       "      <td>1151764.00</td>\n",
       "      <td>RTM</td>\n",
       "      <td>1163183.500</td>\n",
       "      <td>1285104.875</td>\n",
       "      <td>1163578.0</td>\n",
       "    </tr>\n",
       "    <tr>\n",
       "      <th>3</th>\n",
       "      <td>2015-09-01</td>\n",
       "      <td>1151350.125</td>\n",
       "      <td>1095604.125</td>\n",
       "      <td>1155986.25</td>\n",
       "      <td>RTM</td>\n",
       "      <td>1127464.125</td>\n",
       "      <td>1289021.500</td>\n",
       "      <td>1102324.0</td>\n",
       "    </tr>\n",
       "    <tr>\n",
       "      <th>4</th>\n",
       "      <td>2015-10-01</td>\n",
       "      <td>1156565.875</td>\n",
       "      <td>1095670.125</td>\n",
       "      <td>1160208.50</td>\n",
       "      <td>RTM</td>\n",
       "      <td>1126176.250</td>\n",
       "      <td>1234732.625</td>\n",
       "      <td>1094476.0</td>\n",
       "    </tr>\n",
       "    <tr>\n",
       "      <th>5</th>\n",
       "      <td>2015-11-01</td>\n",
       "      <td>1138070.250</td>\n",
       "      <td>1095728.000</td>\n",
       "      <td>1164430.75</td>\n",
       "      <td>RTM</td>\n",
       "      <td>1141042.125</td>\n",
       "      <td>1185206.375</td>\n",
       "      <td>1085862.0</td>\n",
       "    </tr>\n",
       "    <tr>\n",
       "      <th>6</th>\n",
       "      <td>2015-12-01</td>\n",
       "      <td>1124687.250</td>\n",
       "      <td>1095778.750</td>\n",
       "      <td>1168653.00</td>\n",
       "      <td>RTM</td>\n",
       "      <td>1105322.750</td>\n",
       "      <td>1193307.250</td>\n",
       "      <td>1034818.0</td>\n",
       "    </tr>\n",
       "    <tr>\n",
       "      <th>7</th>\n",
       "      <td>2016-01-01</td>\n",
       "      <td>1149465.375</td>\n",
       "      <td>1095823.500</td>\n",
       "      <td>1172875.25</td>\n",
       "      <td>RTM</td>\n",
       "      <td>1139135.875</td>\n",
       "      <td>1159040.375</td>\n",
       "      <td>1060320.0</td>\n",
       "    </tr>\n",
       "    <tr>\n",
       "      <th>8</th>\n",
       "      <td>2016-02-01</td>\n",
       "      <td>1131240.750</td>\n",
       "      <td>1095862.750</td>\n",
       "      <td>1177097.50</td>\n",
       "      <td>RTM</td>\n",
       "      <td>1139144.625</td>\n",
       "      <td>1193975.750</td>\n",
       "      <td>1061762.0</td>\n",
       "    </tr>\n",
       "    <tr>\n",
       "      <th>9</th>\n",
       "      <td>2016-03-01</td>\n",
       "      <td>1162487.625</td>\n",
       "      <td>1095897.125</td>\n",
       "      <td>1181319.75</td>\n",
       "      <td>RTM</td>\n",
       "      <td>1145364.250</td>\n",
       "      <td>1254852.125</td>\n",
       "      <td>1091998.0</td>\n",
       "    </tr>\n",
       "  </tbody>\n",
       "</table>\n",
       "</div>"
      ],
      "text/plain": [
       "          ds    AutoARIMA          ETS       Theta unique_id  LGBMRegressor  \\\n",
       "0 2015-06-01  1159039.000  1095346.625  1143319.50       RTM    1173776.875   \n",
       "1 2015-07-01  1173882.750  1095443.750  1147541.75       RTM    1129370.375   \n",
       "2 2015-08-01  1185384.875  1095529.125  1151764.00       RTM    1163183.500   \n",
       "3 2015-09-01  1151350.125  1095604.125  1155986.25       RTM    1127464.125   \n",
       "4 2015-10-01  1156565.875  1095670.125  1160208.50       RTM    1126176.250   \n",
       "5 2015-11-01  1138070.250  1095728.000  1164430.75       RTM    1141042.125   \n",
       "6 2015-12-01  1124687.250  1095778.750  1168653.00       RTM    1105322.750   \n",
       "7 2016-01-01  1149465.375  1095823.500  1172875.25       RTM    1139135.875   \n",
       "8 2016-02-01  1131240.750  1095862.750  1177097.50       RTM    1139144.625   \n",
       "9 2016-03-01  1162487.625  1095897.125  1181319.75       RTM    1145364.250   \n",
       "\n",
       "   XGBRegressor  LinearRegression  \n",
       "0   1213079.750         1161696.0  \n",
       "1   1251464.875         1113854.0  \n",
       "2   1285104.875         1163578.0  \n",
       "3   1289021.500         1102324.0  \n",
       "4   1234732.625         1094476.0  \n",
       "5   1185206.375         1085862.0  \n",
       "6   1193307.250         1034818.0  \n",
       "7   1159040.375         1060320.0  \n",
       "8   1193975.750         1061762.0  \n",
       "9   1254852.125         1091998.0  "
      ]
     },
     "execution_count": 25,
     "metadata": {},
     "output_type": "execute_result"
    }
   ],
   "source": [
    "test_ca.head(10)"
   ]
  },
  {
   "cell_type": "code",
   "execution_count": 26,
   "metadata": {},
   "outputs": [
    {
     "name": "stdout",
     "output_type": "stream",
     "text": [
      "Conexão fechada\n"
     ]
    }
   ],
   "source": [
    "pred_manager.close_connection()"
   ]
  },
  {
   "cell_type": "markdown",
   "metadata": {},
   "source": [
    "# Adicionando tabelas categóricas"
   ]
  },
  {
   "cell_type": "code",
   "execution_count": 9,
   "metadata": {},
   "outputs": [],
   "source": [
    "import pandas as pd\n",
    "from PredictionsManager import PredictionsManager"
   ]
  },
  {
   "cell_type": "code",
   "execution_count": 2,
   "metadata": {},
   "outputs": [],
   "source": [
    "path_state = \"../../data/state.parquet\"\n",
    "path_store = \"../../data/store.parquet\"\n",
    "path_cat = \"../../data/cat.parquet\"\n",
    "\n",
    "df_state = pd.read_parquet(path_state)\n",
    "df_store = pd.read_parquet(path_store)\n",
    "df_cat = pd.read_parquet(path_cat)"
   ]
  },
  {
   "cell_type": "code",
   "execution_count": 10,
   "metadata": {},
   "outputs": [],
   "source": [
    "path_foods = \"../../data/foods.parquet\"\n",
    "path_hobbies = \"../../data/hobbies.parquet\"\n",
    "path_household = \"../../data/household.parquet\"\n",
    "\n",
    "df_foods = pd.read_parquet(path_foods)\n",
    "df_hobbies = pd.read_parquet(path_hobbies)\n",
    "df_household = pd.read_parquet(path_household)"
   ]
  },
  {
   "cell_type": "code",
   "execution_count": 14,
   "metadata": {},
   "outputs": [],
   "source": [
    "db_path = 'predictions.db'"
   ]
  },
  {
   "cell_type": "code",
   "execution_count": 15,
   "metadata": {},
   "outputs": [],
   "source": [
    "pred_manager = PredictionsManager(db_path=db_path)"
   ]
  },
  {
   "cell_type": "code",
   "execution_count": 16,
   "metadata": {},
   "outputs": [
    {
     "name": "stdout",
     "output_type": "stream",
     "text": [
      "Tabela 'tabela_comidas' adicionada com sucesso.\n",
      "Tabela 'tabela_hobbies' adicionada com sucesso.\n",
      "Tabela 'tabela_casa' adicionada com sucesso.\n"
     ]
    }
   ],
   "source": [
    "pred_manager.add_table(df_state, 'tabela_estados')\n",
    "pred_manager.add_table(df_store, 'tabela_lojas')\n",
    "pred_manager.add_table(df_cat, 'tabela_categorias')\n",
    "\n",
    "pred_manager.add_table(df_foods, 'tabela_comidas')\n",
    "pred_manager.add_table(df_hobbies, 'tabela_hobbies')\n",
    "pred_manager.add_table(df_household, 'tabela_casa')"
   ]
  },
  {
   "cell_type": "code",
   "execution_count": 18,
   "metadata": {},
   "outputs": [
    {
     "data": {
      "text/html": [
       "<div>\n",
       "<style scoped>\n",
       "    .dataframe tbody tr th:only-of-type {\n",
       "        vertical-align: middle;\n",
       "    }\n",
       "\n",
       "    .dataframe tbody tr th {\n",
       "        vertical-align: top;\n",
       "    }\n",
       "\n",
       "    .dataframe thead th {\n",
       "        text-align: right;\n",
       "    }\n",
       "</style>\n",
       "<table border=\"1\" class=\"dataframe\">\n",
       "  <thead>\n",
       "    <tr style=\"text-align: right;\">\n",
       "      <th></th>\n",
       "      <th>state_id</th>\n",
       "      <th>value</th>\n",
       "    </tr>\n",
       "  </thead>\n",
       "  <tbody>\n",
       "    <tr>\n",
       "      <th>0</th>\n",
       "      <td>CA</td>\n",
       "      <td>29196717</td>\n",
       "    </tr>\n",
       "    <tr>\n",
       "      <th>1</th>\n",
       "      <td>TX</td>\n",
       "      <td>19228405</td>\n",
       "    </tr>\n",
       "    <tr>\n",
       "      <th>2</th>\n",
       "      <td>WI</td>\n",
       "      <td>18502051</td>\n",
       "    </tr>\n",
       "  </tbody>\n",
       "</table>\n",
       "</div>"
      ],
      "text/plain": [
       "  state_id     value\n",
       "0       CA  29196717\n",
       "1       TX  19228405\n",
       "2       WI  18502051"
      ]
     },
     "execution_count": 18,
     "metadata": {},
     "output_type": "execute_result"
    }
   ],
   "source": [
    "estados = pred_manager.get_table('tabela_estados')\n",
    "estados"
   ]
  },
  {
   "cell_type": "code",
   "execution_count": 19,
   "metadata": {},
   "outputs": [
    {
     "name": "stdout",
     "output_type": "stream",
     "text": [
      "Conexão fechada\n"
     ]
    }
   ],
   "source": [
    "pred_manager.close_connection()"
   ]
  }
 ],
 "metadata": {
  "kernelspec": {
   "display_name": "Python 3",
   "language": "python",
   "name": "python3"
  },
  "language_info": {
   "codemirror_mode": {
    "name": "ipython",
    "version": 3
   },
   "file_extension": ".py",
   "mimetype": "text/x-python",
   "name": "python",
   "nbconvert_exporter": "python",
   "pygments_lexer": "ipython3",
   "version": "3.12.4"
  }
 },
 "nbformat": 4,
 "nbformat_minor": 2
}
