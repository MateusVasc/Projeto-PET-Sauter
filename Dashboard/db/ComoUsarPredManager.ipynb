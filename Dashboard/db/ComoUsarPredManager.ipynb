{
 "cells": [
  {
   "cell_type": "markdown",
   "metadata": {},
   "source": [
    "#### Não precisa olhar esse código do Nixxla. Só fiz ele pra mostrar pra vocês os códigos do PredictionManager rodando"
   ]
  },
  {
   "cell_type": "code",
   "execution_count": 1,
   "metadata": {},
   "outputs": [],
   "source": [
    "from mlforecast import MLForecast\n",
    "import pandas as pd"
   ]
  },
  {
   "cell_type": "code",
   "execution_count": 2,
   "metadata": {},
   "outputs": [],
   "source": [
    "path = r'C:\\Users\\micha\\Documents\\GitHub\\Projeto-PET-Sauter\\data\\M5_full.parquet'\n",
    "\n",
    "dados = pd.read_parquet(path)"
   ]
  },
  {
   "cell_type": "code",
   "execution_count": 3,
   "metadata": {},
   "outputs": [],
   "source": [
    "dados['date'] = pd.to_datetime(dados['date'])"
   ]
  },
  {
   "cell_type": "code",
   "execution_count": 4,
   "metadata": {},
   "outputs": [],
   "source": [
    "dados['year_month'] = dados['date'].dt.to_period('M')"
   ]
  },
  {
   "cell_type": "code",
   "execution_count": 5,
   "metadata": {},
   "outputs": [],
   "source": [
    "dados['year_month'] = dados['year_month'].dt.to_timestamp()"
   ]
  },
  {
   "cell_type": "code",
   "execution_count": 6,
   "metadata": {},
   "outputs": [],
   "source": [
    "df_general = dados.groupby('year_month')['value'].sum().reset_index().set_index('year_month')"
   ]
  },
  {
   "cell_type": "code",
   "execution_count": 7,
   "metadata": {},
   "outputs": [
    {
     "name": "stderr",
     "output_type": "stream",
     "text": [
      "C:\\Users\\micha\\AppData\\Local\\Temp\\ipykernel_9756\\13977740.py:1: FutureWarning: The default of observed=False is deprecated and will be changed to True in a future version of pandas. Pass observed=False to retain current behavior or observed=True to adopt the future default and silence this warning.\n",
      "  df_hobbies = dados.groupby(['cat_id', 'year_month'])['value'].sum().reset_index().set_index('year_month')\n"
     ]
    }
   ],
   "source": [
    "df_hobbies = dados.groupby(['cat_id', 'year_month'])['value'].sum().reset_index().set_index('year_month')\n",
    "df_hobbies = df_hobbies[df_hobbies['cat_id'] == 'HOBBIES']"
   ]
  },
  {
   "cell_type": "code",
   "execution_count": 8,
   "metadata": {},
   "outputs": [],
   "source": [
    "df_nixtla_general = pd.DataFrame({'ds': df_general.index, 'y': df_general['value'].values, 'unique_id' : 'general'})\n",
    "df_nixtla_hobbies = pd.DataFrame({'ds': df_hobbies.index, 'y': df_hobbies['value'].values, 'unique_id': 'hobbies'})\n",
    "\n",
    "df_nixtla = pd.concat([df_nixtla_general, df_nixtla_hobbies], ignore_index=True)"
   ]
  },
  {
   "cell_type": "code",
   "execution_count": 9,
   "metadata": {},
   "outputs": [],
   "source": [
    "test_size = (int)(df_nixtla.shape[0]*0.2)\n",
    "\n",
    "df_test = df_nixtla.tail(test_size)\n",
    "df_train = df_nixtla.drop(df_test.index)"
   ]
  },
  {
   "cell_type": "code",
   "execution_count": 10,
   "metadata": {},
   "outputs": [],
   "source": [
    "from sklearn.base import BaseEstimator\n",
    "\n",
    "class Naive(BaseEstimator):\n",
    "    def fit(self, X, y):\n",
    "        return self\n",
    "\n",
    "    def predict(self, X):\n",
    "        return X['lag1']"
   ]
  },
  {
   "cell_type": "code",
   "execution_count": 11,
   "metadata": {},
   "outputs": [],
   "source": [
    "from sklearn.tree import DecisionTreeRegressor\n",
    "from sklearn.linear_model import LinearRegression"
   ]
  },
  {
   "cell_type": "code",
   "execution_count": 12,
   "metadata": {},
   "outputs": [],
   "source": [
    "selected_models = [\n",
    "    DecisionTreeRegressor(),\n",
    "    LinearRegression(),\n",
    "    Naive()\n",
    "]"
   ]
  },
  {
   "cell_type": "code",
   "execution_count": 13,
   "metadata": {},
   "outputs": [],
   "source": [
    "ml_forecast = MLForecast(\n",
    "    models = selected_models,\n",
    "    freq = 'M',\n",
    "    lags=[1,2,3,4,5,6]\n",
    ")"
   ]
  },
  {
   "cell_type": "code",
   "execution_count": 14,
   "metadata": {},
   "outputs": [
    {
     "data": {
      "text/plain": [
       "MLForecast(models=[DecisionTreeRegressor, LinearRegression, Naive], freq=M, lag_features=['lag1', 'lag2', 'lag3', 'lag4', 'lag5', 'lag6'], date_features=[], num_threads=1)"
      ]
     },
     "execution_count": 14,
     "metadata": {},
     "output_type": "execute_result"
    }
   ],
   "source": [
    "ml_forecast.fit(df_train)"
   ]
  },
  {
   "cell_type": "markdown",
   "metadata": {},
   "source": [
    "##### Aqui é o que precisa ser salvo"
   ]
  },
  {
   "cell_type": "code",
   "execution_count": 15,
   "metadata": {},
   "outputs": [
    {
     "name": "stderr",
     "output_type": "stream",
     "text": [
      "C:\\Users\\micha\\AppData\\Roaming\\Python\\Python311\\site-packages\\utilsforecast\\processing.py:362: FutureWarning: 'M' is deprecated and will be removed in a future version, please use 'ME' instead.\n",
      "  freq = pd.tseries.frequencies.to_offset(freq)\n",
      "C:\\Users\\micha\\AppData\\Roaming\\Python\\Python311\\site-packages\\utilsforecast\\processing.py:362: FutureWarning: 'M' is deprecated and will be removed in a future version, please use 'ME' instead.\n",
      "  freq = pd.tseries.frequencies.to_offset(freq)\n",
      "C:\\Users\\micha\\AppData\\Roaming\\Python\\Python311\\site-packages\\utilsforecast\\processing.py:362: FutureWarning: 'M' is deprecated and will be removed in a future version, please use 'ME' instead.\n",
      "  freq = pd.tseries.frequencies.to_offset(freq)\n",
      "C:\\Users\\micha\\AppData\\Roaming\\Python\\Python311\\site-packages\\utilsforecast\\processing.py:362: FutureWarning: 'M' is deprecated and will be removed in a future version, please use 'ME' instead.\n",
      "  freq = pd.tseries.frequencies.to_offset(freq)\n",
      "C:\\Users\\micha\\AppData\\Roaming\\Python\\Python311\\site-packages\\utilsforecast\\processing.py:362: FutureWarning: 'M' is deprecated and will be removed in a future version, please use 'ME' instead.\n",
      "  freq = pd.tseries.frequencies.to_offset(freq)\n",
      "C:\\Users\\micha\\AppData\\Roaming\\Python\\Python311\\site-packages\\utilsforecast\\processing.py:362: FutureWarning: 'M' is deprecated and will be removed in a future version, please use 'ME' instead.\n",
      "  freq = pd.tseries.frequencies.to_offset(freq)\n",
      "C:\\Users\\micha\\AppData\\Roaming\\Python\\Python311\\site-packages\\utilsforecast\\processing.py:362: FutureWarning: 'M' is deprecated and will be removed in a future version, please use 'ME' instead.\n",
      "  freq = pd.tseries.frequencies.to_offset(freq)\n",
      "C:\\Users\\micha\\AppData\\Roaming\\Python\\Python311\\site-packages\\utilsforecast\\processing.py:362: FutureWarning: 'M' is deprecated and will be removed in a future version, please use 'ME' instead.\n",
      "  freq = pd.tseries.frequencies.to_offset(freq)\n",
      "C:\\Users\\micha\\AppData\\Roaming\\Python\\Python311\\site-packages\\utilsforecast\\processing.py:362: FutureWarning: 'M' is deprecated and will be removed in a future version, please use 'ME' instead.\n",
      "  freq = pd.tseries.frequencies.to_offset(freq)\n",
      "C:\\Users\\micha\\AppData\\Roaming\\Python\\Python311\\site-packages\\utilsforecast\\processing.py:362: FutureWarning: 'M' is deprecated and will be removed in a future version, please use 'ME' instead.\n",
      "  freq = pd.tseries.frequencies.to_offset(freq)\n",
      "C:\\Users\\micha\\AppData\\Roaming\\Python\\Python311\\site-packages\\utilsforecast\\processing.py:362: FutureWarning: 'M' is deprecated and will be removed in a future version, please use 'ME' instead.\n",
      "  freq = pd.tseries.frequencies.to_offset(freq)\n",
      "C:\\Users\\micha\\AppData\\Roaming\\Python\\Python311\\site-packages\\utilsforecast\\processing.py:362: FutureWarning: 'M' is deprecated and will be removed in a future version, please use 'ME' instead.\n",
      "  freq = pd.tseries.frequencies.to_offset(freq)\n",
      "C:\\Users\\micha\\AppData\\Roaming\\Python\\Python311\\site-packages\\utilsforecast\\processing.py:362: FutureWarning: 'M' is deprecated and will be removed in a future version, please use 'ME' instead.\n",
      "  freq = pd.tseries.frequencies.to_offset(freq)\n",
      "C:\\Users\\micha\\AppData\\Roaming\\Python\\Python311\\site-packages\\utilsforecast\\processing.py:362: FutureWarning: 'M' is deprecated and will be removed in a future version, please use 'ME' instead.\n",
      "  freq = pd.tseries.frequencies.to_offset(freq)\n",
      "C:\\Users\\micha\\AppData\\Roaming\\Python\\Python311\\site-packages\\utilsforecast\\processing.py:362: FutureWarning: 'M' is deprecated and will be removed in a future version, please use 'ME' instead.\n",
      "  freq = pd.tseries.frequencies.to_offset(freq)\n",
      "C:\\Users\\micha\\AppData\\Roaming\\Python\\Python311\\site-packages\\utilsforecast\\processing.py:362: FutureWarning: 'M' is deprecated and will be removed in a future version, please use 'ME' instead.\n",
      "  freq = pd.tseries.frequencies.to_offset(freq)\n",
      "C:\\Users\\micha\\AppData\\Roaming\\Python\\Python311\\site-packages\\utilsforecast\\processing.py:362: FutureWarning: 'M' is deprecated and will be removed in a future version, please use 'ME' instead.\n",
      "  freq = pd.tseries.frequencies.to_offset(freq)\n",
      "C:\\Users\\micha\\AppData\\Roaming\\Python\\Python311\\site-packages\\utilsforecast\\processing.py:362: FutureWarning: 'M' is deprecated and will be removed in a future version, please use 'ME' instead.\n",
      "  freq = pd.tseries.frequencies.to_offset(freq)\n",
      "C:\\Users\\micha\\AppData\\Roaming\\Python\\Python311\\site-packages\\utilsforecast\\processing.py:362: FutureWarning: 'M' is deprecated and will be removed in a future version, please use 'ME' instead.\n",
      "  freq = pd.tseries.frequencies.to_offset(freq)\n",
      "C:\\Users\\micha\\AppData\\Roaming\\Python\\Python311\\site-packages\\utilsforecast\\processing.py:362: FutureWarning: 'M' is deprecated and will be removed in a future version, please use 'ME' instead.\n",
      "  freq = pd.tseries.frequencies.to_offset(freq)\n",
      "C:\\Users\\micha\\AppData\\Roaming\\Python\\Python311\\site-packages\\utilsforecast\\processing.py:362: FutureWarning: 'M' is deprecated and will be removed in a future version, please use 'ME' instead.\n",
      "  freq = pd.tseries.frequencies.to_offset(freq)\n",
      "C:\\Users\\micha\\AppData\\Roaming\\Python\\Python311\\site-packages\\utilsforecast\\processing.py:362: FutureWarning: 'M' is deprecated and will be removed in a future version, please use 'ME' instead.\n",
      "  freq = pd.tseries.frequencies.to_offset(freq)\n",
      "C:\\Users\\micha\\AppData\\Roaming\\Python\\Python311\\site-packages\\utilsforecast\\processing.py:362: FutureWarning: 'M' is deprecated and will be removed in a future version, please use 'ME' instead.\n",
      "  freq = pd.tseries.frequencies.to_offset(freq)\n",
      "C:\\Users\\micha\\AppData\\Roaming\\Python\\Python311\\site-packages\\utilsforecast\\processing.py:362: FutureWarning: 'M' is deprecated and will be removed in a future version, please use 'ME' instead.\n",
      "  freq = pd.tseries.frequencies.to_offset(freq)\n",
      "C:\\Users\\micha\\AppData\\Roaming\\Python\\Python311\\site-packages\\utilsforecast\\processing.py:362: FutureWarning: 'M' is deprecated and will be removed in a future version, please use 'ME' instead.\n",
      "  freq = pd.tseries.frequencies.to_offset(freq)\n",
      "C:\\Users\\micha\\AppData\\Roaming\\Python\\Python311\\site-packages\\utilsforecast\\processing.py:362: FutureWarning: 'M' is deprecated and will be removed in a future version, please use 'ME' instead.\n",
      "  freq = pd.tseries.frequencies.to_offset(freq)\n",
      "C:\\Users\\micha\\AppData\\Roaming\\Python\\Python311\\site-packages\\utilsforecast\\processing.py:362: FutureWarning: 'M' is deprecated and will be removed in a future version, please use 'ME' instead.\n",
      "  freq = pd.tseries.frequencies.to_offset(freq)\n",
      "C:\\Users\\micha\\AppData\\Roaming\\Python\\Python311\\site-packages\\utilsforecast\\processing.py:362: FutureWarning: 'M' is deprecated and will be removed in a future version, please use 'ME' instead.\n",
      "  freq = pd.tseries.frequencies.to_offset(freq)\n",
      "C:\\Users\\micha\\AppData\\Roaming\\Python\\Python311\\site-packages\\utilsforecast\\processing.py:362: FutureWarning: 'M' is deprecated and will be removed in a future version, please use 'ME' instead.\n",
      "  freq = pd.tseries.frequencies.to_offset(freq)\n",
      "C:\\Users\\micha\\AppData\\Roaming\\Python\\Python311\\site-packages\\utilsforecast\\processing.py:362: FutureWarning: 'M' is deprecated and will be removed in a future version, please use 'ME' instead.\n",
      "  freq = pd.tseries.frequencies.to_offset(freq)\n",
      "C:\\Users\\micha\\AppData\\Roaming\\Python\\Python311\\site-packages\\utilsforecast\\processing.py:362: FutureWarning: 'M' is deprecated and will be removed in a future version, please use 'ME' instead.\n",
      "  freq = pd.tseries.frequencies.to_offset(freq)\n",
      "C:\\Users\\micha\\AppData\\Roaming\\Python\\Python311\\site-packages\\utilsforecast\\processing.py:362: FutureWarning: 'M' is deprecated and will be removed in a future version, please use 'ME' instead.\n",
      "  freq = pd.tseries.frequencies.to_offset(freq)\n",
      "C:\\Users\\micha\\AppData\\Roaming\\Python\\Python311\\site-packages\\utilsforecast\\processing.py:362: FutureWarning: 'M' is deprecated and will be removed in a future version, please use 'ME' instead.\n",
      "  freq = pd.tseries.frequencies.to_offset(freq)\n",
      "C:\\Users\\micha\\AppData\\Roaming\\Python\\Python311\\site-packages\\utilsforecast\\processing.py:362: FutureWarning: 'M' is deprecated and will be removed in a future version, please use 'ME' instead.\n",
      "  freq = pd.tseries.frequencies.to_offset(freq)\n",
      "C:\\Users\\micha\\AppData\\Roaming\\Python\\Python311\\site-packages\\utilsforecast\\processing.py:362: FutureWarning: 'M' is deprecated and will be removed in a future version, please use 'ME' instead.\n",
      "  freq = pd.tseries.frequencies.to_offset(freq)\n",
      "C:\\Users\\micha\\AppData\\Roaming\\Python\\Python311\\site-packages\\utilsforecast\\processing.py:362: FutureWarning: 'M' is deprecated and will be removed in a future version, please use 'ME' instead.\n",
      "  freq = pd.tseries.frequencies.to_offset(freq)\n",
      "C:\\Users\\micha\\AppData\\Roaming\\Python\\Python311\\site-packages\\utilsforecast\\processing.py:362: FutureWarning: 'M' is deprecated and will be removed in a future version, please use 'ME' instead.\n",
      "  freq = pd.tseries.frequencies.to_offset(freq)\n",
      "C:\\Users\\micha\\AppData\\Roaming\\Python\\Python311\\site-packages\\utilsforecast\\processing.py:362: FutureWarning: 'M' is deprecated and will be removed in a future version, please use 'ME' instead.\n",
      "  freq = pd.tseries.frequencies.to_offset(freq)\n",
      "C:\\Users\\micha\\AppData\\Roaming\\Python\\Python311\\site-packages\\utilsforecast\\processing.py:362: FutureWarning: 'M' is deprecated and will be removed in a future version, please use 'ME' instead.\n",
      "  freq = pd.tseries.frequencies.to_offset(freq)\n",
      "C:\\Users\\micha\\AppData\\Roaming\\Python\\Python311\\site-packages\\utilsforecast\\processing.py:362: FutureWarning: 'M' is deprecated and will be removed in a future version, please use 'ME' instead.\n",
      "  freq = pd.tseries.frequencies.to_offset(freq)\n",
      "C:\\Users\\micha\\AppData\\Roaming\\Python\\Python311\\site-packages\\utilsforecast\\processing.py:362: FutureWarning: 'M' is deprecated and will be removed in a future version, please use 'ME' instead.\n",
      "  freq = pd.tseries.frequencies.to_offset(freq)\n",
      "C:\\Users\\micha\\AppData\\Roaming\\Python\\Python311\\site-packages\\utilsforecast\\processing.py:362: FutureWarning: 'M' is deprecated and will be removed in a future version, please use 'ME' instead.\n",
      "  freq = pd.tseries.frequencies.to_offset(freq)\n",
      "C:\\Users\\micha\\AppData\\Roaming\\Python\\Python311\\site-packages\\utilsforecast\\processing.py:362: FutureWarning: 'M' is deprecated and will be removed in a future version, please use 'ME' instead.\n",
      "  freq = pd.tseries.frequencies.to_offset(freq)\n",
      "C:\\Users\\micha\\AppData\\Roaming\\Python\\Python311\\site-packages\\utilsforecast\\processing.py:362: FutureWarning: 'M' is deprecated and will be removed in a future version, please use 'ME' instead.\n",
      "  freq = pd.tseries.frequencies.to_offset(freq)\n",
      "C:\\Users\\micha\\AppData\\Roaming\\Python\\Python311\\site-packages\\utilsforecast\\processing.py:362: FutureWarning: 'M' is deprecated and will be removed in a future version, please use 'ME' instead.\n",
      "  freq = pd.tseries.frequencies.to_offset(freq)\n",
      "C:\\Users\\micha\\AppData\\Roaming\\Python\\Python311\\site-packages\\utilsforecast\\processing.py:362: FutureWarning: 'M' is deprecated and will be removed in a future version, please use 'ME' instead.\n",
      "  freq = pd.tseries.frequencies.to_offset(freq)\n",
      "C:\\Users\\micha\\AppData\\Roaming\\Python\\Python311\\site-packages\\utilsforecast\\processing.py:362: FutureWarning: 'M' is deprecated and will be removed in a future version, please use 'ME' instead.\n",
      "  freq = pd.tseries.frequencies.to_offset(freq)\n",
      "C:\\Users\\micha\\AppData\\Roaming\\Python\\Python311\\site-packages\\utilsforecast\\processing.py:362: FutureWarning: 'M' is deprecated and will be removed in a future version, please use 'ME' instead.\n",
      "  freq = pd.tseries.frequencies.to_offset(freq)\n",
      "C:\\Users\\micha\\AppData\\Roaming\\Python\\Python311\\site-packages\\utilsforecast\\processing.py:362: FutureWarning: 'M' is deprecated and will be removed in a future version, please use 'ME' instead.\n",
      "  freq = pd.tseries.frequencies.to_offset(freq)\n",
      "C:\\Users\\micha\\AppData\\Roaming\\Python\\Python311\\site-packages\\utilsforecast\\processing.py:362: FutureWarning: 'M' is deprecated and will be removed in a future version, please use 'ME' instead.\n",
      "  freq = pd.tseries.frequencies.to_offset(freq)\n",
      "C:\\Users\\micha\\AppData\\Roaming\\Python\\Python311\\site-packages\\utilsforecast\\processing.py:362: FutureWarning: 'M' is deprecated and will be removed in a future version, please use 'ME' instead.\n",
      "  freq = pd.tseries.frequencies.to_offset(freq)\n",
      "C:\\Users\\micha\\AppData\\Roaming\\Python\\Python311\\site-packages\\utilsforecast\\processing.py:362: FutureWarning: 'M' is deprecated and will be removed in a future version, please use 'ME' instead.\n",
      "  freq = pd.tseries.frequencies.to_offset(freq)\n",
      "C:\\Users\\micha\\AppData\\Roaming\\Python\\Python311\\site-packages\\utilsforecast\\processing.py:362: FutureWarning: 'M' is deprecated and will be removed in a future version, please use 'ME' instead.\n",
      "  freq = pd.tseries.frequencies.to_offset(freq)\n",
      "C:\\Users\\micha\\AppData\\Roaming\\Python\\Python311\\site-packages\\utilsforecast\\processing.py:362: FutureWarning: 'M' is deprecated and will be removed in a future version, please use 'ME' instead.\n",
      "  freq = pd.tseries.frequencies.to_offset(freq)\n",
      "C:\\Users\\micha\\AppData\\Roaming\\Python\\Python311\\site-packages\\utilsforecast\\processing.py:362: FutureWarning: 'M' is deprecated and will be removed in a future version, please use 'ME' instead.\n",
      "  freq = pd.tseries.frequencies.to_offset(freq)\n",
      "C:\\Users\\micha\\AppData\\Roaming\\Python\\Python311\\site-packages\\utilsforecast\\processing.py:362: FutureWarning: 'M' is deprecated and will be removed in a future version, please use 'ME' instead.\n",
      "  freq = pd.tseries.frequencies.to_offset(freq)\n",
      "C:\\Users\\micha\\AppData\\Roaming\\Python\\Python311\\site-packages\\utilsforecast\\processing.py:362: FutureWarning: 'M' is deprecated and will be removed in a future version, please use 'ME' instead.\n",
      "  freq = pd.tseries.frequencies.to_offset(freq)\n",
      "C:\\Users\\micha\\AppData\\Roaming\\Python\\Python311\\site-packages\\utilsforecast\\processing.py:362: FutureWarning: 'M' is deprecated and will be removed in a future version, please use 'ME' instead.\n",
      "  freq = pd.tseries.frequencies.to_offset(freq)\n",
      "C:\\Users\\micha\\AppData\\Roaming\\Python\\Python311\\site-packages\\utilsforecast\\processing.py:362: FutureWarning: 'M' is deprecated and will be removed in a future version, please use 'ME' instead.\n",
      "  freq = pd.tseries.frequencies.to_offset(freq)\n",
      "C:\\Users\\micha\\AppData\\Roaming\\Python\\Python311\\site-packages\\utilsforecast\\processing.py:362: FutureWarning: 'M' is deprecated and will be removed in a future version, please use 'ME' instead.\n",
      "  freq = pd.tseries.frequencies.to_offset(freq)\n",
      "C:\\Users\\micha\\AppData\\Roaming\\Python\\Python311\\site-packages\\utilsforecast\\processing.py:362: FutureWarning: 'M' is deprecated and will be removed in a future version, please use 'ME' instead.\n",
      "  freq = pd.tseries.frequencies.to_offset(freq)\n",
      "C:\\Users\\micha\\AppData\\Roaming\\Python\\Python311\\site-packages\\utilsforecast\\processing.py:362: FutureWarning: 'M' is deprecated and will be removed in a future version, please use 'ME' instead.\n",
      "  freq = pd.tseries.frequencies.to_offset(freq)\n",
      "C:\\Users\\micha\\AppData\\Roaming\\Python\\Python311\\site-packages\\utilsforecast\\processing.py:362: FutureWarning: 'M' is deprecated and will be removed in a future version, please use 'ME' instead.\n",
      "  freq = pd.tseries.frequencies.to_offset(freq)\n",
      "C:\\Users\\micha\\AppData\\Roaming\\Python\\Python311\\site-packages\\utilsforecast\\processing.py:362: FutureWarning: 'M' is deprecated and will be removed in a future version, please use 'ME' instead.\n",
      "  freq = pd.tseries.frequencies.to_offset(freq)\n",
      "C:\\Users\\micha\\AppData\\Roaming\\Python\\Python311\\site-packages\\utilsforecast\\processing.py:362: FutureWarning: 'M' is deprecated and will be removed in a future version, please use 'ME' instead.\n",
      "  freq = pd.tseries.frequencies.to_offset(freq)\n",
      "C:\\Users\\micha\\AppData\\Roaming\\Python\\Python311\\site-packages\\utilsforecast\\processing.py:362: FutureWarning: 'M' is deprecated and will be removed in a future version, please use 'ME' instead.\n",
      "  freq = pd.tseries.frequencies.to_offset(freq)\n",
      "C:\\Users\\micha\\AppData\\Roaming\\Python\\Python311\\site-packages\\utilsforecast\\processing.py:362: FutureWarning: 'M' is deprecated and will be removed in a future version, please use 'ME' instead.\n",
      "  freq = pd.tseries.frequencies.to_offset(freq)\n",
      "C:\\Users\\micha\\AppData\\Roaming\\Python\\Python311\\site-packages\\utilsforecast\\processing.py:362: FutureWarning: 'M' is deprecated and will be removed in a future version, please use 'ME' instead.\n",
      "  freq = pd.tseries.frequencies.to_offset(freq)\n",
      "C:\\Users\\micha\\AppData\\Roaming\\Python\\Python311\\site-packages\\utilsforecast\\processing.py:362: FutureWarning: 'M' is deprecated and will be removed in a future version, please use 'ME' instead.\n",
      "  freq = pd.tseries.frequencies.to_offset(freq)\n",
      "C:\\Users\\micha\\AppData\\Roaming\\Python\\Python311\\site-packages\\utilsforecast\\processing.py:362: FutureWarning: 'M' is deprecated and will be removed in a future version, please use 'ME' instead.\n",
      "  freq = pd.tseries.frequencies.to_offset(freq)\n",
      "C:\\Users\\micha\\AppData\\Roaming\\Python\\Python311\\site-packages\\utilsforecast\\processing.py:362: FutureWarning: 'M' is deprecated and will be removed in a future version, please use 'ME' instead.\n",
      "  freq = pd.tseries.frequencies.to_offset(freq)\n",
      "C:\\Users\\micha\\AppData\\Roaming\\Python\\Python311\\site-packages\\utilsforecast\\processing.py:362: FutureWarning: 'M' is deprecated and will be removed in a future version, please use 'ME' instead.\n",
      "  freq = pd.tseries.frequencies.to_offset(freq)\n",
      "C:\\Users\\micha\\AppData\\Roaming\\Python\\Python311\\site-packages\\utilsforecast\\processing.py:362: FutureWarning: 'M' is deprecated and will be removed in a future version, please use 'ME' instead.\n",
      "  freq = pd.tseries.frequencies.to_offset(freq)\n",
      "C:\\Users\\micha\\AppData\\Roaming\\Python\\Python311\\site-packages\\utilsforecast\\processing.py:362: FutureWarning: 'M' is deprecated and will be removed in a future version, please use 'ME' instead.\n",
      "  freq = pd.tseries.frequencies.to_offset(freq)\n",
      "C:\\Users\\micha\\AppData\\Roaming\\Python\\Python311\\site-packages\\utilsforecast\\processing.py:362: FutureWarning: 'M' is deprecated and will be removed in a future version, please use 'ME' instead.\n",
      "  freq = pd.tseries.frequencies.to_offset(freq)\n",
      "C:\\Users\\micha\\AppData\\Roaming\\Python\\Python311\\site-packages\\utilsforecast\\processing.py:362: FutureWarning: 'M' is deprecated and will be removed in a future version, please use 'ME' instead.\n",
      "  freq = pd.tseries.frequencies.to_offset(freq)\n",
      "C:\\Users\\micha\\AppData\\Roaming\\Python\\Python311\\site-packages\\utilsforecast\\processing.py:362: FutureWarning: 'M' is deprecated and will be removed in a future version, please use 'ME' instead.\n",
      "  freq = pd.tseries.frequencies.to_offset(freq)\n",
      "C:\\Users\\micha\\AppData\\Roaming\\Python\\Python311\\site-packages\\utilsforecast\\processing.py:362: FutureWarning: 'M' is deprecated and will be removed in a future version, please use 'ME' instead.\n",
      "  freq = pd.tseries.frequencies.to_offset(freq)\n"
     ]
    }
   ],
   "source": [
    "predict_full = ml_forecast.predict(test_size)"
   ]
  },
  {
   "cell_type": "markdown",
   "metadata": {},
   "source": [
    "#### Vocês precisam usar isso aqui pra fazer o dashboard"
   ]
  },
  {
   "cell_type": "markdown",
   "metadata": {},
   "source": [
    "##### Essa classe serve pra gerenciar as predições no nosso Banco de Dados de predição. Basicamente, serve como uma API pra salvar e consultar as predições feitas pelo Nixxla."
   ]
  },
  {
   "cell_type": "code",
   "execution_count": 16,
   "metadata": {},
   "outputs": [],
   "source": [
    "from PredictionsManager import PredictionsManager "
   ]
  },
  {
   "cell_type": "markdown",
   "metadata": {},
   "source": [
    "##### Esse path pro db eu criei pra testar a classe, então criem onde ficar melhor pra rodar o dashboard"
   ]
  },
  {
   "cell_type": "code",
   "execution_count": 17,
   "metadata": {},
   "outputs": [],
   "source": [
    "db_path = 'predictions.db'"
   ]
  },
  {
   "cell_type": "code",
   "execution_count": 18,
   "metadata": {},
   "outputs": [
    {
     "name": "stdout",
     "output_type": "stream",
     "text": [
      "Banco de dados conectado: predictions.db\n"
     ]
    }
   ],
   "source": [
    "pred_manager = PredictionsManager(db_path=db_path)"
   ]
  },
  {
   "cell_type": "markdown",
   "metadata": {},
   "source": [
    "##### Vejam que o meu DataFrame 'pred_full' tem as previsões de todos os modelos que eu selecionei pra cada uma dos unique_id"
   ]
  },
  {
   "cell_type": "code",
   "execution_count": 19,
   "metadata": {},
   "outputs": [
    {
     "data": {
      "text/html": [
       "<div>\n",
       "<style scoped>\n",
       "    .dataframe tbody tr th:only-of-type {\n",
       "        vertical-align: middle;\n",
       "    }\n",
       "\n",
       "    .dataframe tbody tr th {\n",
       "        vertical-align: top;\n",
       "    }\n",
       "\n",
       "    .dataframe thead th {\n",
       "        text-align: right;\n",
       "    }\n",
       "</style>\n",
       "<table border=\"1\" class=\"dataframe\">\n",
       "  <thead>\n",
       "    <tr style=\"text-align: right;\">\n",
       "      <th></th>\n",
       "      <th>unique_id</th>\n",
       "      <th>ds</th>\n",
       "      <th>DecisionTreeRegressor</th>\n",
       "      <th>LinearRegression</th>\n",
       "      <th>Naive</th>\n",
       "    </tr>\n",
       "  </thead>\n",
       "  <tbody>\n",
       "    <tr>\n",
       "      <th>0</th>\n",
       "      <td>general</td>\n",
       "      <td>2016-05-31</td>\n",
       "      <td>1083115.0</td>\n",
       "      <td>1.074594e+06</td>\n",
       "      <td>994982.0</td>\n",
       "    </tr>\n",
       "    <tr>\n",
       "      <th>1</th>\n",
       "      <td>general</td>\n",
       "      <td>2016-06-30</td>\n",
       "      <td>1051078.0</td>\n",
       "      <td>1.039590e+06</td>\n",
       "      <td>994982.0</td>\n",
       "    </tr>\n",
       "    <tr>\n",
       "      <th>2</th>\n",
       "      <td>general</td>\n",
       "      <td>2016-07-31</td>\n",
       "      <td>1013452.0</td>\n",
       "      <td>1.039560e+06</td>\n",
       "      <td>994982.0</td>\n",
       "    </tr>\n",
       "    <tr>\n",
       "      <th>3</th>\n",
       "      <td>general</td>\n",
       "      <td>2016-08-31</td>\n",
       "      <td>1117570.0</td>\n",
       "      <td>1.180017e+06</td>\n",
       "      <td>994982.0</td>\n",
       "    </tr>\n",
       "    <tr>\n",
       "      <th>4</th>\n",
       "      <td>general</td>\n",
       "      <td>2016-09-30</td>\n",
       "      <td>1031877.0</td>\n",
       "      <td>1.100387e+06</td>\n",
       "      <td>994982.0</td>\n",
       "    </tr>\n",
       "  </tbody>\n",
       "</table>\n",
       "</div>"
      ],
      "text/plain": [
       "  unique_id         ds  DecisionTreeRegressor  LinearRegression     Naive\n",
       "0   general 2016-05-31              1083115.0      1.074594e+06  994982.0\n",
       "1   general 2016-06-30              1051078.0      1.039590e+06  994982.0\n",
       "2   general 2016-07-31              1013452.0      1.039560e+06  994982.0\n",
       "3   general 2016-08-31              1117570.0      1.180017e+06  994982.0\n",
       "4   general 2016-09-30              1031877.0      1.100387e+06  994982.0"
      ]
     },
     "execution_count": 19,
     "metadata": {},
     "output_type": "execute_result"
    }
   ],
   "source": [
    "predict_full.head(5)"
   ]
  },
  {
   "cell_type": "code",
   "execution_count": 20,
   "metadata": {},
   "outputs": [
    {
     "data": {
      "text/html": [
       "<div>\n",
       "<style scoped>\n",
       "    .dataframe tbody tr th:only-of-type {\n",
       "        vertical-align: middle;\n",
       "    }\n",
       "\n",
       "    .dataframe tbody tr th {\n",
       "        vertical-align: top;\n",
       "    }\n",
       "\n",
       "    .dataframe thead th {\n",
       "        text-align: right;\n",
       "    }\n",
       "</style>\n",
       "<table border=\"1\" class=\"dataframe\">\n",
       "  <thead>\n",
       "    <tr style=\"text-align: right;\">\n",
       "      <th></th>\n",
       "      <th>unique_id</th>\n",
       "      <th>ds</th>\n",
       "      <th>DecisionTreeRegressor</th>\n",
       "      <th>LinearRegression</th>\n",
       "      <th>Naive</th>\n",
       "    </tr>\n",
       "  </thead>\n",
       "  <tbody>\n",
       "    <tr>\n",
       "      <th>47</th>\n",
       "      <td>hobbies</td>\n",
       "      <td>2015-12-31</td>\n",
       "      <td>94650.0</td>\n",
       "      <td>172619.078125</td>\n",
       "      <td>100565.0</td>\n",
       "    </tr>\n",
       "    <tr>\n",
       "      <th>48</th>\n",
       "      <td>hobbies</td>\n",
       "      <td>2016-01-31</td>\n",
       "      <td>94650.0</td>\n",
       "      <td>175924.296875</td>\n",
       "      <td>100565.0</td>\n",
       "    </tr>\n",
       "    <tr>\n",
       "      <th>49</th>\n",
       "      <td>hobbies</td>\n",
       "      <td>2016-02-29</td>\n",
       "      <td>100565.0</td>\n",
       "      <td>179369.406250</td>\n",
       "      <td>100565.0</td>\n",
       "    </tr>\n",
       "    <tr>\n",
       "      <th>50</th>\n",
       "      <td>hobbies</td>\n",
       "      <td>2016-03-31</td>\n",
       "      <td>104877.0</td>\n",
       "      <td>182163.156250</td>\n",
       "      <td>100565.0</td>\n",
       "    </tr>\n",
       "    <tr>\n",
       "      <th>51</th>\n",
       "      <td>hobbies</td>\n",
       "      <td>2016-04-30</td>\n",
       "      <td>104877.0</td>\n",
       "      <td>185714.093750</td>\n",
       "      <td>100565.0</td>\n",
       "    </tr>\n",
       "  </tbody>\n",
       "</table>\n",
       "</div>"
      ],
      "text/plain": [
       "   unique_id         ds  DecisionTreeRegressor  LinearRegression     Naive\n",
       "47   hobbies 2015-12-31                94650.0     172619.078125  100565.0\n",
       "48   hobbies 2016-01-31                94650.0     175924.296875  100565.0\n",
       "49   hobbies 2016-02-29               100565.0     179369.406250  100565.0\n",
       "50   hobbies 2016-03-31               104877.0     182163.156250  100565.0\n",
       "51   hobbies 2016-04-30               104877.0     185714.093750  100565.0"
      ]
     },
     "execution_count": 20,
     "metadata": {},
     "output_type": "execute_result"
    }
   ],
   "source": [
    "predict_full.tail(5)"
   ]
  },
  {
   "cell_type": "markdown",
   "metadata": {},
   "source": [
    "##### Pra salvar essas previsões na base de dados basta passar esse DataFrame que o manager vai separar cada previsão em uma tabela com o nome correspondente ao 'unique_id' dela em 'predict_full'"
   ]
  },
  {
   "cell_type": "code",
   "execution_count": 21,
   "metadata": {},
   "outputs": [
    {
     "name": "stdout",
     "output_type": "stream",
     "text": [
      "Todas as previsões foram salvas em tabelas chamadas: ['general' 'hobbies']\n"
     ]
    }
   ],
   "source": [
    "pred_manager.save_predictions(predict_full)"
   ]
  },
  {
   "cell_type": "markdown",
   "metadata": {},
   "source": [
    "##### Pra pegar as previsões, é só usar o método abaixo e pasasr o 'unique_id' correspondente a previsão que você quer e ele vai retornar um DataFrame que nem o abaixo."
   ]
  },
  {
   "cell_type": "code",
   "execution_count": 22,
   "metadata": {},
   "outputs": [
    {
     "name": "stdout",
     "output_type": "stream",
     "text": [
      "Previsões recuperadas com sucesso para: hobbies\n"
     ]
    },
    {
     "data": {
      "text/html": [
       "<div>\n",
       "<style scoped>\n",
       "    .dataframe tbody tr th:only-of-type {\n",
       "        vertical-align: middle;\n",
       "    }\n",
       "\n",
       "    .dataframe tbody tr th {\n",
       "        vertical-align: top;\n",
       "    }\n",
       "\n",
       "    .dataframe thead th {\n",
       "        text-align: right;\n",
       "    }\n",
       "</style>\n",
       "<table border=\"1\" class=\"dataframe\">\n",
       "  <thead>\n",
       "    <tr style=\"text-align: right;\">\n",
       "      <th></th>\n",
       "      <th>unique_id</th>\n",
       "      <th>ds</th>\n",
       "      <th>DecisionTreeRegressor</th>\n",
       "      <th>LinearRegression</th>\n",
       "      <th>Naive</th>\n",
       "    </tr>\n",
       "  </thead>\n",
       "  <tbody>\n",
       "    <tr>\n",
       "      <th>0</th>\n",
       "      <td>hobbies</td>\n",
       "      <td>2014-03-31</td>\n",
       "      <td>104877.0</td>\n",
       "      <td>102544.875000</td>\n",
       "      <td>100565.0</td>\n",
       "    </tr>\n",
       "    <tr>\n",
       "      <th>1</th>\n",
       "      <td>hobbies</td>\n",
       "      <td>2014-04-30</td>\n",
       "      <td>104877.0</td>\n",
       "      <td>108147.375000</td>\n",
       "      <td>100565.0</td>\n",
       "    </tr>\n",
       "    <tr>\n",
       "      <th>2</th>\n",
       "      <td>hobbies</td>\n",
       "      <td>2014-05-31</td>\n",
       "      <td>106435.0</td>\n",
       "      <td>116856.882812</td>\n",
       "      <td>100565.0</td>\n",
       "    </tr>\n",
       "    <tr>\n",
       "      <th>3</th>\n",
       "      <td>hobbies</td>\n",
       "      <td>2014-06-30</td>\n",
       "      <td>94650.0</td>\n",
       "      <td>115380.429688</td>\n",
       "      <td>100565.0</td>\n",
       "    </tr>\n",
       "    <tr>\n",
       "      <th>4</th>\n",
       "      <td>hobbies</td>\n",
       "      <td>2014-07-31</td>\n",
       "      <td>94650.0</td>\n",
       "      <td>120426.648438</td>\n",
       "      <td>100565.0</td>\n",
       "    </tr>\n",
       "  </tbody>\n",
       "</table>\n",
       "</div>"
      ],
      "text/plain": [
       "  unique_id         ds  DecisionTreeRegressor  LinearRegression     Naive\n",
       "0   hobbies 2014-03-31               104877.0     102544.875000  100565.0\n",
       "1   hobbies 2014-04-30               104877.0     108147.375000  100565.0\n",
       "2   hobbies 2014-05-31               106435.0     116856.882812  100565.0\n",
       "3   hobbies 2014-06-30                94650.0     115380.429688  100565.0\n",
       "4   hobbies 2014-07-31                94650.0     120426.648438  100565.0"
      ]
     },
     "execution_count": 22,
     "metadata": {},
     "output_type": "execute_result"
    }
   ],
   "source": [
    "prev_hobbies = pred_manager.get_prediction('hobbies')\n",
    "prev_hobbies.head()"
   ]
  },
  {
   "cell_type": "markdown",
   "metadata": {},
   "source": [
    "##### Depois de usar essa classe pra salvar/pegar algum dado no BD, lembrem de fechar a conexão."
   ]
  },
  {
   "cell_type": "code",
   "execution_count": 23,
   "metadata": {},
   "outputs": [
    {
     "name": "stdout",
     "output_type": "stream",
     "text": [
      "Conexão fechada\n"
     ]
    }
   ],
   "source": [
    "pred_manager.close_connection()"
   ]
  }
 ],
 "metadata": {
  "kernelspec": {
   "display_name": "Python 3",
   "language": "python",
   "name": "python3"
  },
  "language_info": {
   "codemirror_mode": {
    "name": "ipython",
    "version": 3
   },
   "file_extension": ".py",
   "mimetype": "text/x-python",
   "name": "python",
   "nbconvert_exporter": "python",
   "pygments_lexer": "ipython3",
   "version": "3.11.5"
  }
 },
 "nbformat": 4,
 "nbformat_minor": 2
}
